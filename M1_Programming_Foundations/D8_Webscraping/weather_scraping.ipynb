{
  "cells": [
    {
      "cell_type": "code",
      "metadata": {
        "tags": [],
        "cell_id": "00000-ccb2ff98-f1bf-42c6-bb8b-d2998539064d",
        "deepnote_to_be_reexecuted": false,
        "source_hash": "8bf026d3",
        "execution_millis": 3,
        "execution_start": 1616594228268,
        "deepnote_cell_type": "code"
      },
      "source": "import numpy as np\nimport pandas as pd\nimport requests\nimport regex as re\nimport datetime\nfrom bs4 import BeautifulSoup",
      "execution_count": null,
      "outputs": []
    },
    {
      "cell_type": "code",
      "metadata": {
        "tags": [],
        "cell_id": "00001-6725089d-4462-4307-9b24-c962fa36d6ef",
        "deepnote_to_be_reexecuted": false,
        "source_hash": "59aaaeca",
        "execution_millis": 39,
        "execution_start": 1616590140949,
        "deepnote_cell_type": "code"
      },
      "source": "url = \"https://forecast.weather.gov/MapClick.php?lat=37.777120000000025&lon=-122.41963999999996#.YFsqH2RKg1J\"\n#using the request library to download the webpage\nhtml_data = requests.get(url).content #this saves the downloaded page as a text/content\n# into the variable html_data",
      "execution_count": null,
      "outputs": []
    },
    {
      "cell_type": "code",
      "metadata": {
        "tags": [],
        "cell_id": "00002-98348f4d-cd89-4af2-8936-33df55b40880",
        "deepnote_to_be_reexecuted": false,
        "source_hash": "c058a164",
        "execution_millis": 30,
        "execution_start": 1616590419244,
        "deepnote_cell_type": "code"
      },
      "source": "#tryin to parse the data using beautifulsoup\nsoup = BeautifulSoup(html_data,\"html.parser\")",
      "execution_count": null,
      "outputs": []
    },
    {
      "cell_type": "code",
      "metadata": {
        "tags": [],
        "cell_id": "00005-6b63a981-9b3b-4ef8-91fa-3f08e8e5cd10",
        "deepnote_to_be_reexecuted": false,
        "source_hash": "2acc996d",
        "execution_millis": 1,
        "execution_start": 1616590455512,
        "deepnote_cell_type": "code"
      },
      "source": "tombstones = soup.find_all(\"li\", {\"class\": \"forecast-tombstone\"})",
      "execution_count": null,
      "outputs": []
    },
    {
      "cell_type": "code",
      "metadata": {
        "tags": [],
        "cell_id": "00004-9808b97a-3fb3-4855-9299-0ce4a5293154",
        "deepnote_to_be_reexecuted": false,
        "source_hash": "93ce6a3a",
        "execution_millis": 39,
        "execution_start": 1616590872370,
        "deepnote_cell_type": "code"
      },
      "source": "print(tombstones[0].prettify())",
      "execution_count": null,
      "outputs": [
        {
          "name": "stdout",
          "text": "<li class=\"forecast-tombstone\">\n <div class=\"tombstone-container\">\n  <p class=\"period-name\">\n   Today\n   <br/>\n   <br/>\n  </p>\n  <p>\n   <img alt=\"Today: Mostly sunny, with a high near 66. Light and variable wind becoming west 8 to 13 mph in the morning. \" class=\"forecast-icon\" src=\"newimages/medium/sct.png\" title=\"Today: Mostly sunny, with a high near 66. Light and variable wind becoming west 8 to 13 mph in the morning. \"/>\n  </p>\n  <p class=\"short-desc\">\n   Mostly Sunny\n  </p>\n  <p class=\"temp temp-high\">\n   High: 66 °F\n  </p>\n </div>\n</li>\n\n",
          "output_type": "stream"
        }
      ]
    },
    {
      "cell_type": "code",
      "metadata": {
        "tags": [],
        "cell_id": "00004-f4aca41d-a6dd-4a38-b928-0a99a26b15b6",
        "deepnote_to_be_reexecuted": false,
        "source_hash": "35037fb1",
        "execution_millis": 89,
        "execution_start": 1616599599364,
        "deepnote_cell_type": "code"
      },
      "source": "#one possible way to extract daytime, but we will not need it\n#day = tombstones[0].find(\"p\",{\"class\":\"period-name\"}).text\n\n\ndf = pd.DataFrame(columns=['Date','Day','High','Low','Description'])\ndate = datetime.date.today()\n\nfor stone in tombstones:\n\n    #Extracting daytime and long description\n    daytime, desc = stone.find(\"img\",alt=True)['alt'].split(':')\n    desc = desc.strip()\n\n    #Extracting temperature\n    temp_tag = stone.find(\"p\",{\"class\":\"temp temp-high\"})\n    if temp_tag==None:\n        temp_tag = stone.find(\"p\",{\"class\":\"temp temp-low\"})\n\n    temp_cat = temp_tag.text.split(':')[0]\n    temp = int(re.findall(\"\\d+\",temp_tag.text)[0])\n\n\n    df = df.append({'Date':date,'Day':daytime,'Extreme':temp_cat,'Temp':temp,'Description':desc}, ignore_index=True)\n    \n\n\n\n\n",
      "execution_count": null,
      "outputs": []
    },
    {
      "cell_type": "code",
      "metadata": {
        "tags": [],
        "cell_id": "00005-d241b1ec-5f52-45ca-93ac-fd7279e52718",
        "deepnote_to_be_reexecuted": false,
        "source_hash": "f804c160",
        "execution_millis": 68,
        "execution_start": 1616599607294,
        "deepnote_cell_type": "code"
      },
      "source": "df",
      "execution_count": null,
      "outputs": [
        {
          "output_type": "execute_result",
          "execution_count": 182,
          "data": {
            "application/vnd.deepnote.dataframe.v2+json": {
              "row_count": 9,
              "column_count": 7,
              "columns": [
                {
                  "name": "Date",
                  "dtype": "object",
                  "stats": {
                    "unique_count": 1,
                    "nan_count": 0,
                    "categories": [
                      {
                        "name": "2021-03-24",
                        "count": 9
                      }
                    ]
                  }
                },
                {
                  "name": "Day",
                  "dtype": "object",
                  "stats": {
                    "unique_count": 9,
                    "nan_count": 0,
                    "categories": [
                      {
                        "name": "Today",
                        "count": 1
                      },
                      {
                        "name": "Tonight",
                        "count": 1
                      },
                      {
                        "name": "7 others",
                        "count": 7
                      }
                    ]
                  }
                },
                {
                  "name": "High",
                  "dtype": "object",
                  "stats": {
                    "unique_count": 0,
                    "nan_count": 9,
                    "categories": [
                      {
                        "name": "Missing",
                        "count": 9
                      }
                    ]
                  }
                },
                {
                  "name": "Low",
                  "dtype": "object",
                  "stats": {
                    "unique_count": 0,
                    "nan_count": 9,
                    "categories": [
                      {
                        "name": "Missing",
                        "count": 9
                      }
                    ]
                  }
                },
                {
                  "name": "Description",
                  "dtype": "object",
                  "stats": {
                    "unique_count": 9,
                    "nan_count": 0,
                    "categories": [
                      {
                        "name": "Mostly sunny, with a high near 66. Light and variable wind becoming west 8 to 13 mph in the morning.",
                        "count": 1
                      },
                      {
                        "name": "Partly cloudy, with a low around 48. West wind 10 to 17 mph, with gusts as high as 23 mph.",
                        "count": 1
                      },
                      {
                        "name": "7 others",
                        "count": 7
                      }
                    ]
                  }
                },
                {
                  "name": "Extreme",
                  "dtype": "object",
                  "stats": {
                    "unique_count": 2,
                    "nan_count": 0,
                    "categories": [
                      {
                        "name": "High",
                        "count": 5
                      },
                      {
                        "name": "Low",
                        "count": 4
                      }
                    ]
                  }
                },
                {
                  "name": "Temp",
                  "dtype": "float64",
                  "stats": {
                    "unique_count": 8,
                    "nan_count": 0,
                    "min": 46,
                    "max": 74,
                    "histogram": [
                      {
                        "bin_start": 46,
                        "bin_end": 48.8,
                        "count": 3
                      },
                      {
                        "bin_start": 48.8,
                        "bin_end": 51.6,
                        "count": 1
                      },
                      {
                        "bin_start": 51.6,
                        "bin_end": 54.4,
                        "count": 0
                      },
                      {
                        "bin_start": 54.4,
                        "bin_end": 57.2,
                        "count": 0
                      },
                      {
                        "bin_start": 57.2,
                        "bin_end": 60,
                        "count": 0
                      },
                      {
                        "bin_start": 60,
                        "bin_end": 62.8,
                        "count": 1
                      },
                      {
                        "bin_start": 62.8,
                        "bin_end": 65.6,
                        "count": 0
                      },
                      {
                        "bin_start": 65.6,
                        "bin_end": 68.4,
                        "count": 1
                      },
                      {
                        "bin_start": 68.4,
                        "bin_end": 71.2,
                        "count": 2
                      },
                      {
                        "bin_start": 71.2,
                        "bin_end": 74,
                        "count": 1
                      }
                    ]
                  }
                },
                {
                  "name": "_deepnote_index_column",
                  "dtype": "int64"
                }
              ],
              "rows_top": [
                {
                  "Date": "2021-03-24",
                  "Day": "Today",
                  "High": "nan",
                  "Low": "nan",
                  "Description": "Mostly sunny, with a high near 66. Light and variable wind becoming west 8 to 13 mph in the morning.",
                  "Extreme": "High",
                  "Temp": 66,
                  "_deepnote_index_column": 0
                },
                {
                  "Date": "2021-03-24",
                  "Day": "Tonight",
                  "High": "nan",
                  "Low": "nan",
                  "Description": "Partly cloudy, with a low around 48. West wind 10 to 17 mph, with gusts as high as 23 mph.",
                  "Extreme": "Low",
                  "Temp": 48,
                  "_deepnote_index_column": 1
                },
                {
                  "Date": "2021-03-24",
                  "Day": "Thursday",
                  "High": "nan",
                  "Low": "nan",
                  "Description": "Sunny, with a high near 61. West wind 7 to 17 mph, with gusts as high as 23 mph.",
                  "Extreme": "High",
                  "Temp": 61,
                  "_deepnote_index_column": 2
                },
                {
                  "Date": "2021-03-24",
                  "Day": "Thursday Night",
                  "High": "nan",
                  "Low": "nan",
                  "Description": "Clear, with a low around 46. Northwest wind 5 to 14 mph, with gusts as high as 18 mph.",
                  "Extreme": "Low",
                  "Temp": 46,
                  "_deepnote_index_column": 3
                },
                {
                  "Date": "2021-03-24",
                  "Day": "Friday",
                  "High": "nan",
                  "Low": "nan",
                  "Description": "Sunny, with a high near 69. North wind 8 to 10 mph.",
                  "Extreme": "High",
                  "Temp": 69,
                  "_deepnote_index_column": 4
                },
                {
                  "Date": "2021-03-24",
                  "Day": "Friday Night",
                  "High": "nan",
                  "Low": "nan",
                  "Description": "Clear, with a low around 47.",
                  "Extreme": "Low",
                  "Temp": 47,
                  "_deepnote_index_column": 5
                },
                {
                  "Date": "2021-03-24",
                  "Day": "Saturday",
                  "High": "nan",
                  "Low": "nan",
                  "Description": "Sunny, with a high near 74.",
                  "Extreme": "High",
                  "Temp": 74,
                  "_deepnote_index_column": 6
                },
                {
                  "Date": "2021-03-24",
                  "Day": "Saturday Night",
                  "High": "nan",
                  "Low": "nan",
                  "Description": "Clear, with a low around 49.",
                  "Extreme": "Low",
                  "Temp": 49,
                  "_deepnote_index_column": 7
                },
                {
                  "Date": "2021-03-24",
                  "Day": "Sunday",
                  "High": "nan",
                  "Low": "nan",
                  "Description": "Sunny, with a high near 69.",
                  "Extreme": "High",
                  "Temp": 69,
                  "_deepnote_index_column": 8
                }
              ],
              "rows_bottom": null
            },
            "text/plain": "         Date             Day High  Low  \\\n0  2021-03-24           Today  NaN  NaN   \n1  2021-03-24         Tonight  NaN  NaN   \n2  2021-03-24        Thursday  NaN  NaN   \n3  2021-03-24  Thursday Night  NaN  NaN   \n4  2021-03-24          Friday  NaN  NaN   \n5  2021-03-24    Friday Night  NaN  NaN   \n6  2021-03-24        Saturday  NaN  NaN   \n7  2021-03-24  Saturday Night  NaN  NaN   \n8  2021-03-24          Sunday  NaN  NaN   \n\n                                         Description Extreme  Temp  \n0  Mostly sunny, with a high near 66. Light and v...    High  66.0  \n1  Partly cloudy, with a low around 48. West wind...     Low  48.0  \n2  Sunny, with a high near 61. West wind 7 to 17 ...    High  61.0  \n3  Clear, with a low around 46. Northwest wind 5 ...     Low  46.0  \n4  Sunny, with a high near 69. North wind 8 to 10...    High  69.0  \n5                       Clear, with a low around 47.     Low  47.0  \n6                        Sunny, with a high near 74.    High  74.0  \n7                       Clear, with a low around 49.     Low  49.0  \n8                        Sunny, with a high near 69.    High  69.0  ",
            "text/html": "<div>\n<style scoped>\n    .dataframe tbody tr th:only-of-type {\n        vertical-align: middle;\n    }\n\n    .dataframe tbody tr th {\n        vertical-align: top;\n    }\n\n    .dataframe thead th {\n        text-align: right;\n    }\n</style>\n<table border=\"1\" class=\"dataframe\">\n  <thead>\n    <tr style=\"text-align: right;\">\n      <th></th>\n      <th>Date</th>\n      <th>Day</th>\n      <th>High</th>\n      <th>Low</th>\n      <th>Description</th>\n      <th>Extreme</th>\n      <th>Temp</th>\n    </tr>\n  </thead>\n  <tbody>\n    <tr>\n      <th>0</th>\n      <td>2021-03-24</td>\n      <td>Today</td>\n      <td>NaN</td>\n      <td>NaN</td>\n      <td>Mostly sunny, with a high near 66. Light and v...</td>\n      <td>High</td>\n      <td>66.0</td>\n    </tr>\n    <tr>\n      <th>1</th>\n      <td>2021-03-24</td>\n      <td>Tonight</td>\n      <td>NaN</td>\n      <td>NaN</td>\n      <td>Partly cloudy, with a low around 48. West wind...</td>\n      <td>Low</td>\n      <td>48.0</td>\n    </tr>\n    <tr>\n      <th>2</th>\n      <td>2021-03-24</td>\n      <td>Thursday</td>\n      <td>NaN</td>\n      <td>NaN</td>\n      <td>Sunny, with a high near 61. West wind 7 to 17 ...</td>\n      <td>High</td>\n      <td>61.0</td>\n    </tr>\n    <tr>\n      <th>3</th>\n      <td>2021-03-24</td>\n      <td>Thursday Night</td>\n      <td>NaN</td>\n      <td>NaN</td>\n      <td>Clear, with a low around 46. Northwest wind 5 ...</td>\n      <td>Low</td>\n      <td>46.0</td>\n    </tr>\n    <tr>\n      <th>4</th>\n      <td>2021-03-24</td>\n      <td>Friday</td>\n      <td>NaN</td>\n      <td>NaN</td>\n      <td>Sunny, with a high near 69. North wind 8 to 10...</td>\n      <td>High</td>\n      <td>69.0</td>\n    </tr>\n    <tr>\n      <th>5</th>\n      <td>2021-03-24</td>\n      <td>Friday Night</td>\n      <td>NaN</td>\n      <td>NaN</td>\n      <td>Clear, with a low around 47.</td>\n      <td>Low</td>\n      <td>47.0</td>\n    </tr>\n    <tr>\n      <th>6</th>\n      <td>2021-03-24</td>\n      <td>Saturday</td>\n      <td>NaN</td>\n      <td>NaN</td>\n      <td>Sunny, with a high near 74.</td>\n      <td>High</td>\n      <td>74.0</td>\n    </tr>\n    <tr>\n      <th>7</th>\n      <td>2021-03-24</td>\n      <td>Saturday Night</td>\n      <td>NaN</td>\n      <td>NaN</td>\n      <td>Clear, with a low around 49.</td>\n      <td>Low</td>\n      <td>49.0</td>\n    </tr>\n    <tr>\n      <th>8</th>\n      <td>2021-03-24</td>\n      <td>Sunday</td>\n      <td>NaN</td>\n      <td>NaN</td>\n      <td>Sunny, with a high near 69.</td>\n      <td>High</td>\n      <td>69.0</td>\n    </tr>\n  </tbody>\n</table>\n</div>"
          },
          "metadata": {}
        }
      ]
    },
    {
      "cell_type": "code",
      "metadata": {
        "tags": [],
        "cell_id": "00005-ec30a867-e94e-4e87-8407-f28065e0c17e",
        "deepnote_to_be_reexecuted": false,
        "source_hash": "649df96c",
        "execution_millis": 25,
        "execution_start": 1616598359649,
        "deepnote_cell_type": "code"
      },
      "source": "df = df.append({'Date':'bla','Day':'blabla','High':5,'Low':3,'Description':'bbbbbb'},ignore_index=True)",
      "execution_count": null,
      "outputs": []
    },
    {
      "cell_type": "code",
      "metadata": {
        "tags": [],
        "cell_id": "00008-b2ad605a-fc47-478d-a718-e86400d66a7c",
        "deepnote_to_be_reexecuted": false,
        "source_hash": "b7090bbb",
        "execution_millis": 111,
        "execution_start": 1616599376713,
        "deepnote_cell_type": "code"
      },
      "source": "date = datetime.date.today()\nprint(date)",
      "execution_count": null,
      "outputs": [
        {
          "name": "stdout",
          "text": "2021-03-25\n",
          "output_type": "stream"
        }
      ]
    },
    {
      "cell_type": "code",
      "metadata": {
        "tags": [],
        "cell_id": "00008-c49b0e31-6441-4ed0-8dbb-ea61a4e9b317",
        "deepnote_to_be_reexecuted": false,
        "source_hash": "f804c160",
        "execution_millis": 78,
        "execution_start": 1616598361204,
        "deepnote_cell_type": "code"
      },
      "source": "df",
      "execution_count": null,
      "outputs": [
        {
          "output_type": "execute_result",
          "execution_count": 167,
          "data": {
            "application/vnd.deepnote.dataframe.v2+json": {
              "row_count": 1,
              "column_count": 5,
              "columns": [
                {
                  "name": "Date",
                  "dtype": "object",
                  "stats": {
                    "unique_count": 1,
                    "nan_count": 0,
                    "categories": [
                      {
                        "name": "bla",
                        "count": 1
                      }
                    ]
                  }
                },
                {
                  "name": "Day",
                  "dtype": "object",
                  "stats": {
                    "unique_count": 1,
                    "nan_count": 0,
                    "categories": [
                      {
                        "name": "blabla",
                        "count": 1
                      }
                    ]
                  }
                },
                {
                  "name": "High",
                  "dtype": "object",
                  "stats": {
                    "unique_count": 1,
                    "nan_count": 0,
                    "categories": [
                      {
                        "name": "5",
                        "count": 1
                      }
                    ]
                  }
                },
                {
                  "name": "Low",
                  "dtype": "object",
                  "stats": {
                    "unique_count": 1,
                    "nan_count": 0,
                    "categories": [
                      {
                        "name": "3",
                        "count": 1
                      }
                    ]
                  }
                },
                {
                  "name": "Description",
                  "dtype": "object",
                  "stats": {
                    "unique_count": 1,
                    "nan_count": 0,
                    "categories": [
                      {
                        "name": "bbbbbb",
                        "count": 1
                      }
                    ]
                  }
                },
                {
                  "name": "_deepnote_index_column",
                  "dtype": "int64"
                }
              ],
              "rows_top": [
                {
                  "Date": "bla",
                  "Day": "blabla",
                  "High": 5,
                  "Low": 3,
                  "Description": "bbbbbb",
                  "_deepnote_index_column": 0
                }
              ],
              "rows_bottom": null
            },
            "text/plain": "  Date     Day High Low Description\n0  bla  blabla    5   3      bbbbbb",
            "text/html": "<div>\n<style scoped>\n    .dataframe tbody tr th:only-of-type {\n        vertical-align: middle;\n    }\n\n    .dataframe tbody tr th {\n        vertical-align: top;\n    }\n\n    .dataframe thead th {\n        text-align: right;\n    }\n</style>\n<table border=\"1\" class=\"dataframe\">\n  <thead>\n    <tr style=\"text-align: right;\">\n      <th></th>\n      <th>Date</th>\n      <th>Day</th>\n      <th>High</th>\n      <th>Low</th>\n      <th>Description</th>\n    </tr>\n  </thead>\n  <tbody>\n    <tr>\n      <th>0</th>\n      <td>bla</td>\n      <td>blabla</td>\n      <td>5</td>\n      <td>3</td>\n      <td>bbbbbb</td>\n    </tr>\n  </tbody>\n</table>\n</div>"
          },
          "metadata": {}
        }
      ]
    },
    {
      "cell_type": "code",
      "metadata": {
        "tags": [],
        "cell_id": "00009-04d5cb91-b936-49e3-a380-39cb8aca09df",
        "deepnote_cell_type": "code"
      },
      "source": "",
      "execution_count": null,
      "outputs": []
    },
    {
      "cell_type": "markdown",
      "source": "<a style='text-decoration:none;line-height:16px;display:flex;color:#5B5B62;padding:10px;justify-content:end;' href='https://deepnote.com?utm_source=created-in-deepnote-cell&projectId=707b3354-6a36-4a18-95db-18b654efe088' target=\"_blank\">\n<img style='display:inline;max-height:16px;margin:0px;margin-right:7.5px;' src='data:image/svg+xml;base64,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' > </img>\nCreated in <span style='font-weight:600;margin-left:4px;'>Deepnote</span></a>",
      "metadata": {
        "tags": [],
        "created_in_deepnote_cell": true,
        "deepnote_cell_type": "markdown"
      }
    }
  ],
  "nbformat": 4,
  "nbformat_minor": 2,
  "metadata": {
    "orig_nbformat": 2,
    "deepnote_notebook_id": "042a43fa-92ea-48ef-b6dc-54f73eb5880e",
    "deepnote": {},
    "deepnote_execution_queue": []
  }
}