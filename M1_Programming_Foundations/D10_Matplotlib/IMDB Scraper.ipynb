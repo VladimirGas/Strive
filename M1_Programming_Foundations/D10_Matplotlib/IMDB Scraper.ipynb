{
  "cells": [
    {
      "cell_type": "code",
      "metadata": {
        "tags": [],
        "cell_id": "00000-5dcdef12-d9a9-473c-8a46-f7663f78d68a",
        "deepnote_to_be_reexecuted": false,
        "source_hash": "cdcbaf3e",
        "execution_millis": 113,
        "execution_start": 1616783286213,
        "deepnote_cell_type": "code"
      },
      "source": "import requests\nimport math\nimport pandas as pd\nfrom bs4 import BeautifulSoup\nimport regex as re\n",
      "outputs": [],
      "execution_count": null
    },
    {
      "cell_type": "code",
      "metadata": {
        "tags": [],
        "cell_id": "00001-57223537-8084-40c3-8f62-18509f01acdc",
        "deepnote_to_be_reexecuted": false,
        "source_hash": "f34151ba",
        "execution_millis": 2,
        "execution_start": 1616783287243,
        "deepnote_cell_type": "code"
      },
      "source": "def scrape_nums(page_soup):\n    nums = page_soup.find_all(\"span\",{'class':'lister-item-index'})\n    nums = [int(i.text.replace('.','')) for i in nums]\n    return nums",
      "outputs": [],
      "execution_count": null
    },
    {
      "cell_type": "code",
      "metadata": {
        "tags": [],
        "cell_id": "00002-57dae6cd-74d8-4bb2-a38e-5282ebb8f33c",
        "deepnote_to_be_reexecuted": false,
        "source_hash": "6b32dbad",
        "execution_millis": 0,
        "execution_start": 1616783287636,
        "deepnote_cell_type": "code"
      },
      "source": "def scrape_titles(page_soup):\n    titles_container = page_soup.find_all(class_= \"lister-item-header\")\n    titles = [title.get_text() for title in titles_container ] #loop to getText in days_container\n    titles = [title.split('\\n') for title in titles] #split by \\n\n    titles = [title[2] for title in titles] #split by \\n\n    return titles",
      "outputs": [],
      "execution_count": null
    },
    {
      "cell_type": "code",
      "metadata": {
        "tags": [],
        "cell_id": "00003-95deab7f-2436-4f71-b262-62dc7411aa39",
        "deepnote_to_be_reexecuted": false,
        "source_hash": "54288aa3",
        "execution_millis": 2,
        "execution_start": 1616783287947,
        "deepnote_cell_type": "code"
      },
      "source": "def scrape_descs(page_soup):\n    movies_descs = page_soup.find_all('div',{'class':\"lister-item-content\"})\n    descs_list=[]\n    for movie in movies_descs:\n        descs_list.append((movie.find_all(\"p\",{\"class\":\"text-muted\"}))[1].text.split(\"\\n\")[1].strip())\n    return descs_list",
      "outputs": [],
      "execution_count": null
    },
    {
      "cell_type": "code",
      "metadata": {
        "tags": [],
        "cell_id": "00004-50af81d9-afc8-49dd-8b02-e5212cdbf475",
        "deepnote_to_be_reexecuted": false,
        "source_hash": "e750cb8",
        "execution_millis": 16,
        "execution_start": 1616784143076,
        "deepnote_cell_type": "code"
      },
      "source": "def scrape_years(page_soup):\n    titles_container = page_soup.find_all(class_= \"lister-item-header\")\n    title_splits = [title.get_text().split('\\n') for title in titles_container ] #loop to getText in days_container\n    years = [title[3] for title in title_splits]\n    years = [int(re.findall('\\d+',item)[0]) for item in years]\n    return years",
      "outputs": [],
      "execution_count": null
    },
    {
      "cell_type": "code",
      "metadata": {
        "tags": [],
        "cell_id": "00005-571b6ccc-cba4-4f48-a4e9-1913bb925607",
        "deepnote_to_be_reexecuted": false,
        "source_hash": "e3bbe0c2",
        "execution_millis": 1,
        "execution_start": 1616783288424,
        "deepnote_cell_type": "code"
      },
      "source": "# - Release Date Scraper\n\ndef scrape_years(page_soup):\n    titles_container = page_soup.find_all(class_= \"lister-item-header\")\n    title_splits = [title.get_text().split('\\n') for title in titles_container ] #loop to getText in days_container\n    years = [title[3] for title in title_splits]\n    return years",
      "outputs": [],
      "execution_count": null
    },
    {
      "cell_type": "code",
      "metadata": {
        "tags": [],
        "cell_id": "00006-79d76b42-be68-42f5-9c8c-de2f5ce12088",
        "deepnote_to_be_reexecuted": false,
        "source_hash": "ad3046e7",
        "execution_millis": 0,
        "execution_start": 1616783288723,
        "deepnote_cell_type": "code"
      },
      "source": "# - Director Scraper\n\ndef scrape_dirs(page_soup):\n    movies_director=page_soup.find_all(class_= \"lister-item-content\")\n    director_list=[]\n    for director in movies_director:\n        director_list.append(director.find(\"p\",{\"class\":\"\"}).a.text)\n    return director_list",
      "outputs": [],
      "execution_count": null
    },
    {
      "cell_type": "code",
      "metadata": {
        "tags": [],
        "cell_id": "00007-3b7f90e2-657f-4c9a-a97e-ec8669123408",
        "deepnote_to_be_reexecuted": false,
        "source_hash": "544d77e6",
        "execution_millis": 5,
        "execution_start": 1616783289891,
        "deepnote_cell_type": "code"
      },
      "source": "# - Rating Scraper\n\ndef scrape_ratings(page_soup):\n    movies_rating=page_soup.find_all(class_=\"inline-block ratings-imdb-rating\")\n    rating_list=[]\n    for rating in movies_rating:\n        rating_list.append(rating.strong.text)\n\n    return rating_list",
      "outputs": [],
      "execution_count": null
    },
    {
      "cell_type": "code",
      "metadata": {
        "tags": [],
        "cell_id": "00008-eec79269-ab38-4159-982d-3078bbfd98a0",
        "deepnote_to_be_reexecuted": false,
        "source_hash": "7e18e861",
        "execution_millis": 0,
        "execution_start": 1616783290131,
        "deepnote_cell_type": "code"
      },
      "source": "# - Duration Scraper\n\ndef scrape_durs(page_soup):\n    duration = page_soup.find_all(class_='lister-item-content')\n    dur = [title.get_text() for title in duration]\n    dur = [title.split('\\n') for title in dur]\n    #display(dur)\n    duration = [title[9] for title in dur]\n    # display(duration)\n    return duration",
      "outputs": [],
      "execution_count": null
    },
    {
      "cell_type": "code",
      "metadata": {
        "tags": [],
        "cell_id": "00009-fea2704f-9b23-4bf7-9177-2bfaea8bbaee",
        "deepnote_to_be_reexecuted": false,
        "source_hash": "8e630f6f",
        "execution_millis": 2,
        "execution_start": 1616784064594,
        "deepnote_cell_type": "code"
      },
      "source": "# - Genres Scraper\n\ndef scrape_genres(page_soup):\n    genres = page_soup.find_all(\"span\",{'class':'genre'})\n    genres = [i.text.split(',') for i in genres]\n    for l in genres:\n        for i in range(len(l)):\n            l[i] = l[i].replace(',','').strip()\n    return genres",
      "outputs": [],
      "execution_count": null
    },
    {
      "cell_type": "code",
      "metadata": {
        "tags": [],
        "cell_id": "00010-aac333ef-89b9-4dec-a156-393ace753744",
        "deepnote_to_be_reexecuted": false,
        "source_hash": "c5929518",
        "execution_millis": 1,
        "execution_start": 1616785768688,
        "deepnote_cell_type": "code"
      },
      "source": "# - Stars Scraper\ndef scrape_stars(soup_page):\n    movies_stars=soup_page.find_all(class_= \"lister-item-content\")\n    stars_list=[]\n    for stars in movies_stars:\n        stars_list.append(str(stars.find(\"p\",{\"class\":\"\"}).text.split(\"\\n\")[5:-1]).strip())\n\n    stars = [star.replace(',','').strip() for star in stars_list]\n    return stars",
      "outputs": [],
      "execution_count": null
    },
    {
      "cell_type": "code",
      "metadata": {
        "tags": [],
        "cell_id": "00011-3bfb5d88-1d11-472c-8b6e-86104cebd473",
        "deepnote_to_be_reexecuted": false,
        "source_hash": "8c69a44b",
        "execution_millis": 4,
        "execution_start": 1616785770843,
        "deepnote_cell_type": "code"
      },
      "source": "#function that takes how many movies you want to scrape and returns ....\n\n\ndef IMDB_scraper(num_mov):\n    num_pages = num_mov/50\n    print(\"Will scare {} movies over {} pages.\".format(num_mov,num_pages))\n\n    nums, titles, descs, years, dirs, ratings, durs, genres, stars, film_dates = [],[],[],[],[],[],[],[],[],[]\n    for i in range (0,int(num_pages)):\n        ind = i*50+1\n        page = requests.get(\"https://www.imdb.com/search/title/?title_type=feature&num_votes=25000,&genres=adventure&sort=user_rating,desc&start={}\".format(ind))\n\n        page_soup = BeautifulSoup(page.content, 'html.parser')\n\n        #Add scraping scripts here\n        nums.extend(scrape_nums(page_soup))\n        titles.extend(scrape_titles(page_soup))\n        descs.extend(scrape_descs(page_soup))\n        years.extend(scrape_years(page_soup))\n        dirs.extend(scrape_dirs(page_soup))\n        ratings.extend(scrape_ratings(page_soup))\n        durs.extend(scrape_durs(page_soup))\n        genres.extend(scrape_genres(page_soup))\n        stars.extend(scrape_stars(page_soup))\n        #film_dates.append(scrape_film_dates(page_soup))\n\n        #check len\n        #if any(len(lst) != length for lst in [titles, descs, years, dirs, ratings, durs, genres, stars, film_dates]):\n        #    print('different number of scraped elements on page {}!'.format(i+1))\n        #    break\n\n    #print(nums[0])\n    #print(titles[0])\n    #print(descs[1])\n    #print(years[0])\n    #print(ratings[0])\n    #print(durs[0])\n    #print(genres[0])\n    #print(stars[0])\n    #print(len(descs))\n\n    scrape_df = pd.DataFrame({\n                    'Number': nums,\n                    'Title': titles, \n                    'Description': descs,\n                    'Release date':years,\n                    'Director':dirs,\n                    'Rating':ratings,\n                    'Duration':durs,\n                    'Genre':genres,\n                    'Stars':stars,\n                    #'Filming Date':film_dates\n                    })\n\n    return scrape_df\n\n\n    \n\n\n",
      "outputs": [],
      "execution_count": null
    },
    {
      "cell_type": "code",
      "metadata": {
        "tags": [],
        "cell_id": "00012-b66a1a6b-b009-4cb3-8c87-f16ba3e36aa2",
        "deepnote_to_be_reexecuted": false,
        "source_hash": "774eca6b",
        "execution_millis": 855,
        "execution_start": 1616785771566,
        "deepnote_cell_type": "code"
      },
      "source": "df = IMDB_scraper(50)\n",
      "outputs": [
        {
          "name": "stdout",
          "text": "Will scare 50 movies over 1.0 pages.\n",
          "output_type": "stream"
        }
      ],
      "execution_count": null
    },
    {
      "cell_type": "code",
      "metadata": {
        "tags": [],
        "cell_id": "00013-e9f255d4-5f7f-4861-b294-cd4ff87fb3ef",
        "deepnote_to_be_reexecuted": false,
        "source_hash": "3becd0bd",
        "execution_millis": 0,
        "execution_start": 1616784149200,
        "deepnote_cell_type": "code"
      },
      "source": "string = ['\\nAdventure', ' Comedy', ' Crime            ']",
      "outputs": [],
      "execution_count": null
    },
    {
      "cell_type": "code",
      "metadata": {
        "tags": [],
        "cell_id": "00013-bc42f304-6b67-4cb7-bef4-b1c4168f65ef",
        "deepnote_to_be_reexecuted": false,
        "source_hash": "f804c160",
        "execution_millis": 15,
        "execution_start": 1616785775033,
        "deepnote_cell_type": "code"
      },
      "source": "df",
      "outputs": [
        {
          "output_type": "execute_result",
          "execution_count": 50,
          "data": {
            "application/vnd.deepnote.dataframe.v2+json": {
              "row_count": 50,
              "column_count": 9,
              "columns": [
                {
                  "name": "Number",
                  "dtype": "int64",
                  "stats": {
                    "unique_count": 50,
                    "nan_count": 0,
                    "min": 1,
                    "max": 50,
                    "histogram": [
                      {
                        "bin_start": 1,
                        "bin_end": 5.9,
                        "count": 5
                      },
                      {
                        "bin_start": 5.9,
                        "bin_end": 10.8,
                        "count": 5
                      },
                      {
                        "bin_start": 10.8,
                        "bin_end": 15.700000000000001,
                        "count": 5
                      },
                      {
                        "bin_start": 15.700000000000001,
                        "bin_end": 20.6,
                        "count": 5
                      },
                      {
                        "bin_start": 20.6,
                        "bin_end": 25.5,
                        "count": 5
                      },
                      {
                        "bin_start": 25.5,
                        "bin_end": 30.400000000000002,
                        "count": 5
                      },
                      {
                        "bin_start": 30.400000000000002,
                        "bin_end": 35.300000000000004,
                        "count": 5
                      },
                      {
                        "bin_start": 35.300000000000004,
                        "bin_end": 40.2,
                        "count": 5
                      },
                      {
                        "bin_start": 40.2,
                        "bin_end": 45.1,
                        "count": 5
                      },
                      {
                        "bin_start": 45.1,
                        "bin_end": 50,
                        "count": 5
                      }
                    ]
                  }
                },
                {
                  "name": "Title",
                  "dtype": "object",
                  "stats": {
                    "unique_count": 50,
                    "nan_count": 0,
                    "categories": [
                      {
                        "name": "The Lord of the Rings: The Return of the King",
                        "count": 1
                      },
                      {
                        "name": "Inception",
                        "count": 1
                      },
                      {
                        "name": "48 others",
                        "count": 48
                      }
                    ]
                  }
                },
                {
                  "name": "Description",
                  "dtype": "object",
                  "stats": {
                    "unique_count": 50,
                    "nan_count": 0,
                    "categories": [
                      {
                        "name": "Gandalf and Aragorn lead the World of Men against Sauron's army to draw his gaze from Frodo and Sam as they approach Mount Doom with the One Ring.",
                        "count": 1
                      },
                      {
                        "name": "A thief who steals corporate secrets through the use of dream-sharing technology is given the inverse task of planting an idea into the mind of a C.E.O.",
                        "count": 1
                      },
                      {
                        "name": "48 others",
                        "count": 48
                      }
                    ]
                  }
                },
                {
                  "name": "Release date",
                  "dtype": "int64",
                  "stats": {
                    "unique_count": 38,
                    "nan_count": 0,
                    "min": 1925,
                    "max": 2021,
                    "histogram": [
                      {
                        "bin_start": 1925,
                        "bin_end": 1934.6,
                        "count": 1
                      },
                      {
                        "bin_start": 1934.6,
                        "bin_end": 1944.2,
                        "count": 0
                      },
                      {
                        "bin_start": 1944.2,
                        "bin_end": 1953.8,
                        "count": 1
                      },
                      {
                        "bin_start": 1953.8,
                        "bin_end": 1963.4,
                        "count": 4
                      },
                      {
                        "bin_start": 1963.4,
                        "bin_end": 1973,
                        "count": 1
                      },
                      {
                        "bin_start": 1973,
                        "bin_end": 1982.6,
                        "count": 6
                      },
                      {
                        "bin_start": 1982.6,
                        "bin_end": 1992.2,
                        "count": 4
                      },
                      {
                        "bin_start": 1992.2,
                        "bin_end": 2001.8,
                        "count": 6
                      },
                      {
                        "bin_start": 2001.8,
                        "bin_end": 2011.4,
                        "count": 12
                      },
                      {
                        "bin_start": 2011.4,
                        "bin_end": 2021,
                        "count": 15
                      }
                    ]
                  }
                },
                {
                  "name": "Director",
                  "dtype": "object",
                  "stats": {
                    "unique_count": 38,
                    "nan_count": 0,
                    "categories": [
                      {
                        "name": "Christopher Nolan",
                        "count": 4
                      },
                      {
                        "name": "Peter Jackson",
                        "count": 3
                      },
                      {
                        "name": "36 others",
                        "count": 43
                      }
                    ]
                  }
                },
                {
                  "name": "Rating",
                  "dtype": "object",
                  "stats": {
                    "unique_count": 9,
                    "nan_count": 0,
                    "categories": [
                      {
                        "name": "8.2",
                        "count": 13
                      },
                      {
                        "name": "8.3",
                        "count": 9
                      },
                      {
                        "name": "7 others",
                        "count": 28
                      }
                    ]
                  }
                },
                {
                  "name": "Duration",
                  "dtype": "object",
                  "stats": {
                    "unique_count": 44,
                    "nan_count": 0,
                    "categories": [
                      {
                        "name": "149 min",
                        "count": 3
                      },
                      {
                        "name": "148 min",
                        "count": 2
                      },
                      {
                        "name": "42 others",
                        "count": 45
                      }
                    ]
                  }
                },
                {
                  "name": "Genre",
                  "dtype": "object",
                  "stats": {
                    "unique_count": 50,
                    "nan_count": 0,
                    "categories": [
                      {
                        "name": "['Action', 'Adventure', 'Drama']",
                        "count": 7
                      },
                      {
                        "name": "['Animation', 'Adventure', 'Comedy']",
                        "count": 6
                      },
                      {
                        "name": "20 others",
                        "count": 37
                      }
                    ]
                  }
                },
                {
                  "name": "Stars",
                  "dtype": "object",
                  "stats": {
                    "unique_count": 49,
                    "nan_count": 0,
                    "categories": [
                      {
                        "name": "['Mark Hamill ' 'Harrison Ford ' 'Carrie Fisher ' 'Billy Dee Williams']",
                        "count": 2
                      },
                      {
                        "name": "['Elijah Wood ' 'Viggo Mortensen ' 'Ian McKellen ' 'Orlando Bloom']",
                        "count": 1
                      },
                      {
                        "name": "47 others",
                        "count": 47
                      }
                    ]
                  }
                },
                {
                  "name": "_deepnote_index_column",
                  "dtype": "int64"
                }
              ],
              "rows_top": [
                {
                  "Number": 1,
                  "Title": "The Lord of the Rings: The Return of the King",
                  "Description": "Gandalf and Aragorn lead the World of Men against Sauron's army to draw his gaze from Frodo and Sam as they approach Mount Doom with the One Ring.",
                  "Release date": 2003,
                  "Director": "Peter Jackson",
                  "Rating": "8.9",
                  "Duration": "201 min",
                  "Genre": "['Action', 'Adventure', 'Drama']",
                  "Stars": "['Elijah Wood ' 'Viggo Mortensen ' 'Ian McKellen ' 'Orlando Bloom']",
                  "_deepnote_index_column": 0
                },
                {
                  "Number": 2,
                  "Title": "Inception",
                  "Description": "A thief who steals corporate secrets through the use of dream-sharing technology is given the inverse task of planting an idea into the mind of a C.E.O.",
                  "Release date": 2010,
                  "Director": "Christopher Nolan",
                  "Rating": "8.8",
                  "Duration": "148 min",
                  "Genre": "['Action', 'Adventure', 'Sci-Fi']",
                  "Stars": "['Leonardo DiCaprio ' 'Joseph Gordon-Levitt ' 'Elliot Page ' 'Ken Watanabe']",
                  "_deepnote_index_column": 1
                },
                {
                  "Number": 3,
                  "Title": "The Lord of the Rings: The Fellowship of the Ring",
                  "Description": "A meek Hobbit from the Shire and eight companions set out on a journey to destroy the powerful One Ring and save Middle-earth from the Dark Lord Sauron.",
                  "Release date": 2001,
                  "Director": "Peter Jackson",
                  "Rating": "8.8",
                  "Duration": "178 min",
                  "Genre": "['Action', 'Adventure', 'Drama']",
                  "Stars": "['Elijah Wood ' 'Ian McKellen ' 'Orlando Bloom ' 'Sean Bean']",
                  "_deepnote_index_column": 2
                },
                {
                  "Number": 4,
                  "Title": "The Lord of the Rings: The Two Towers",
                  "Description": "While Frodo and Sam edge closer to Mordor with the help of the shifty Gollum, the divided fellowship makes a stand against Sauron's new ally, Saruman, and his hordes of Isengard.",
                  "Release date": 2002,
                  "Director": "Peter Jackson",
                  "Rating": "8.7",
                  "Duration": "179 min",
                  "Genre": "['Action', 'Adventure', 'Drama']",
                  "Stars": "['Elijah Wood ' 'Ian McKellen ' 'Viggo Mortensen ' 'Orlando Bloom']",
                  "_deepnote_index_column": 3
                },
                {
                  "Number": 5,
                  "Title": "Star Wars: Episode V - The Empire Strikes Back",
                  "Description": "After the Rebels are brutally overpowered by the Empire on the ice planet Hoth, Luke Skywalker begins Jedi training with Yoda, while his friends are pursued by Darth Vader and a bounty hunter named Boba Fett all over the galaxy.",
                  "Release date": 1980,
                  "Director": "Irvin Kershner",
                  "Rating": "8.7",
                  "Duration": "124 min",
                  "Genre": "['Action', 'Adventure', 'Fantasy']",
                  "Stars": "['Mark Hamill ' 'Harrison Ford ' 'Carrie Fisher ' 'Billy Dee Williams']",
                  "_deepnote_index_column": 4
                },
                {
                  "Number": 6,
                  "Title": "Interstellar",
                  "Description": "A team of explorers travel through a wormhole in space in an attempt to ensure humanity's survival.",
                  "Release date": 2014,
                  "Director": "Christopher Nolan",
                  "Rating": "8.6",
                  "Duration": "169 min",
                  "Genre": "['Adventure', 'Drama', 'Sci-Fi']",
                  "Stars": "['Matthew McConaughey ' 'Anne Hathaway ' 'Jessica Chastain ' 'Mackenzie Foy']",
                  "_deepnote_index_column": 5
                },
                {
                  "Number": 7,
                  "Title": "Spirited Away",
                  "Description": "During her family's move to the suburbs, a sullen 10-year-old girl wanders into a world ruled by gods, witches, and spirits, and where humans are changed into beasts.",
                  "Release date": 2001,
                  "Director": "Hayao Miyazaki",
                  "Rating": "8.6",
                  "Duration": "125 min",
                  "Genre": "['Animation', 'Adventure', 'Family']",
                  "Stars": "['Daveigh Chase ' 'Suzanne Pleshette ' 'Miyu Irino ' 'Rumi Hiiragi']",
                  "_deepnote_index_column": 6
                },
                {
                  "Number": 8,
                  "Title": "Star Wars: Episode IV - A New Hope",
                  "Description": "Luke Skywalker joins forces with a Jedi Knight, a cocky pilot, a Wookiee and two droids to save the galaxy from the Empire's world-destroying battle station, while also attempting to rescue Princess Leia from the mysterious Darth Vader.",
                  "Release date": 1977,
                  "Director": "George Lucas",
                  "Rating": "8.6",
                  "Duration": "121 min",
                  "Genre": "['Action', 'Adventure', 'Fantasy']",
                  "Stars": "['Mark Hamill ' 'Harrison Ford ' 'Carrie Fisher ' 'Alec Guinness']",
                  "_deepnote_index_column": 7
                },
                {
                  "Number": 9,
                  "Title": "Seven Samurai",
                  "Description": "A poor village under attack by bandits recruits seven unemployed samurai to help them defend themselves.",
                  "Release date": 1954,
                  "Director": "Akira Kurosawa",
                  "Rating": "8.6",
                  "Duration": "207 min",
                  "Genre": "['Action', 'Adventure', 'Drama']",
                  "Stars": "['Toshirô Mifune ' 'Takashi Shimura ' 'Keiko Tsushima ' 'Yukiko Shimazaki']",
                  "_deepnote_index_column": 8
                },
                {
                  "Number": 10,
                  "Title": "Gladiator",
                  "Description": "A former Roman General sets out to exact vengeance against the corrupt emperor who murdered his family and sent him into slavery.",
                  "Release date": 2000,
                  "Director": "Ridley Scott",
                  "Rating": "8.5",
                  "Duration": "155 min",
                  "Genre": "['Action', 'Adventure', 'Drama']",
                  "Stars": "['Russell Crowe ' 'Joaquin Phoenix ' 'Connie Nielsen ' 'Oliver Reed']",
                  "_deepnote_index_column": 9
                },
                {
                  "Number": 11,
                  "Title": "The Lion King",
                  "Description": "Lion prince Simba and his father are targeted by his bitter uncle, who wants to ascend the throne himself.",
                  "Release date": 1994,
                  "Director": "Roger Allers",
                  "Rating": "8.5",
                  "Duration": "88 min",
                  "Genre": "['Animation', 'Adventure', 'Drama']",
                  "Stars": "['    Stars:' 'Matthew Broderick ' 'Jeremy Irons ' 'James Earl Jones ' 'Whoopi Goldberg']",
                  "_deepnote_index_column": 10
                },
                {
                  "Number": 12,
                  "Title": "Back to the Future",
                  "Description": "Marty McFly, a 17-year-old high school student, is accidentally sent thirty years into the past in a time-traveling DeLorean invented by his close friend, the eccentric scientist Doc Brown.",
                  "Release date": 1985,
                  "Director": "Robert Zemeckis",
                  "Rating": "8.5",
                  "Duration": "116 min",
                  "Genre": "['Adventure', 'Comedy', 'Sci-Fi']",
                  "Stars": "['Michael J. Fox ' 'Christopher Lloyd ' 'Lea Thompson ' 'Crispin Glover']",
                  "_deepnote_index_column": 11
                },
                {
                  "Number": 13,
                  "Title": "Spider-Man: Into the Spider-Verse",
                  "Description": "Teen Miles Morales becomes the Spider-Man of his universe, and must join with five spider-powered individuals from other dimensions to stop a threat for all realities.",
                  "Release date": 2018,
                  "Director": "Bob Persichetti",
                  "Rating": "8.4",
                  "Duration": "117 min",
                  "Genre": "['Animation', 'Action', 'Adventure']",
                  "Stars": "['| ' '    Stars:' 'Shameik Moore ' 'Jake Johnson ' 'Hailee Steinfeld ' 'Mahershala Ali']",
                  "_deepnote_index_column": 12
                },
                {
                  "Number": 14,
                  "Title": "Avengers: Endgame",
                  "Description": "After the devastating events of Avengers: Infinity War (2018), the universe is in ruins. With the help of remaining allies, the Avengers assemble once more in order to reverse Thanos' actions and restore balance to the universe.",
                  "Release date": 2019,
                  "Director": "Anthony Russo",
                  "Rating": "8.4",
                  "Duration": "181 min",
                  "Genre": "['Action', 'Adventure', 'Drama']",
                  "Stars": "['    Stars:' 'Robert Downey Jr. ' 'Chris Evans ' 'Mark Ruffalo ' 'Chris Hemsworth']",
                  "_deepnote_index_column": 13
                },
                {
                  "Number": 15,
                  "Title": "Avengers: Infinity War",
                  "Description": "The Avengers and their allies must be willing to sacrifice all in an attempt to defeat the powerful Thanos before his blitz of devastation and ruin puts an end to the universe.",
                  "Release date": 2018,
                  "Director": "Anthony Russo",
                  "Rating": "8.4",
                  "Duration": "149 min",
                  "Genre": "['Action', 'Adventure', 'Sci-Fi']",
                  "Stars": "['    Stars:' 'Robert Downey Jr. ' 'Chris Hemsworth ' 'Mark Ruffalo ' 'Chris Evans']",
                  "_deepnote_index_column": 14
                },
                {
                  "Number": 16,
                  "Title": "Coco",
                  "Description": "Aspiring musician Miguel, confronted with his family's ancestral ban on music, enters the Land of the Dead to find his great-great-grandfather, a legendary singer.",
                  "Release date": 2017,
                  "Director": "Lee Unkrich",
                  "Rating": "8.4",
                  "Duration": "105 min",
                  "Genre": "['Animation', 'Adventure', 'Family']",
                  "Stars": "['    Stars:' 'Anthony Gonzalez ' 'Gael García Bernal ' 'Benjamin Bratt ' 'Alanna Ubach']",
                  "_deepnote_index_column": 15
                },
                {
                  "Number": 17,
                  "Title": "The Dark Knight Rises",
                  "Description": "Eight years after the Joker's reign of anarchy, Batman, with the help of the enigmatic Catwoman, is forced from his exile to save Gotham City from the brutal guerrilla terrorist Bane.",
                  "Release date": 2012,
                  "Director": "Christopher Nolan",
                  "Rating": "8.4",
                  "Duration": "164 min",
                  "Genre": "['Action', 'Adventure']",
                  "Stars": "['Christian Bale ' 'Tom Hardy ' 'Anne Hathaway ' 'Gary Oldman']",
                  "_deepnote_index_column": 16
                },
                {
                  "Number": 18,
                  "Title": "WALL·E",
                  "Description": "In the distant future, a small waste-collecting robot inadvertently embarks on a space journey that will ultimately decide the fate of mankind.",
                  "Release date": 2008,
                  "Director": "Andrew Stanton",
                  "Rating": "8.4",
                  "Duration": "98 min",
                  "Genre": "['Animation', 'Adventure', 'Family']",
                  "Stars": "['Ben Burtt ' 'Elissa Knight ' 'Jeff Garlin ' 'Fred Willard']",
                  "_deepnote_index_column": 17
                },
                {
                  "Number": 19,
                  "Title": "Princess Mononoke",
                  "Description": "On a journey to find the cure for a Tatarigami's curse, Ashitaka finds himself in the middle of a war between the forest gods and Tatara, a mining colony. In this quest he also meets San, the Mononoke Hime.",
                  "Release date": 1997,
                  "Director": "Hayao Miyazaki",
                  "Rating": "8.4",
                  "Duration": "134 min",
                  "Genre": "['Animation', 'Action', 'Adventure']",
                  "Stars": "['Yôji Matsuda ' 'Yuriko Ishida ' 'Yûko Tanaka ' 'Billy Crudup']",
                  "_deepnote_index_column": 18
                },
                {
                  "Number": 20,
                  "Title": "Raiders of the Lost Ark",
                  "Description": "In 1936, archaeologist and adventurer Indiana Jones is hired by the U.S. government to find the Ark of the Covenant before Adolf Hitler's Nazis can obtain its awesome powers.",
                  "Release date": 1981,
                  "Director": "Steven Spielberg",
                  "Rating": "8.4",
                  "Duration": "115 min",
                  "Genre": "['Action', 'Adventure']",
                  "Stars": "['Harrison Ford ' 'Karen Allen ' 'Paul Freeman ' 'John Rhys-Davies']",
                  "_deepnote_index_column": 19
                },
                {
                  "Number": 21,
                  "Title": "Zack Snyder's Justice League",
                  "Description": "Determined to ensure Superman's ultimate sacrifice was not in vain, Bruce Wayne aligns forces with Diana Prince with plans to recruit a team of metahumans to protect the world from an approaching threat of catastrophic proportions.",
                  "Release date": 2021,
                  "Director": "Zack Snyder",
                  "Rating": "8.3",
                  "Duration": "242 min",
                  "Genre": "['Action', 'Adventure', 'Fantasy']",
                  "Stars": "['Henry Cavill ' 'Ben Affleck ' 'Gal Gadot ' 'Amy Adams']",
                  "_deepnote_index_column": 20
                },
                {
                  "Number": 22,
                  "Title": "Inglourious Basterds",
                  "Description": "In Nazi-occupied France during World War II, a plan to assassinate Nazi leaders by a group of Jewish U.S. soldiers coincides with a theatre owner's vengeful plans for the same.",
                  "Release date": 2009,
                  "Director": "Quentin Tarantino",
                  "Rating": "8.3",
                  "Duration": "153 min",
                  "Genre": "['Adventure', 'Drama', 'War']",
                  "Stars": "['Brad Pitt ' 'Diane Kruger ' 'Eli Roth ' 'Mélanie Laurent']",
                  "_deepnote_index_column": 21
                },
                {
                  "Number": 23,
                  "Title": "Toy Story",
                  "Description": "A cowboy doll is profoundly threatened and jealous when a new spaceman figure supplants him as top toy in a boy's room.",
                  "Release date": 1995,
                  "Director": "John Lasseter",
                  "Rating": "8.3",
                  "Duration": "81 min",
                  "Genre": "['Animation', 'Adventure', 'Comedy']",
                  "Stars": "['Tom Hanks ' 'Tim Allen ' 'Don Rickles ' 'Jim Varney']",
                  "_deepnote_index_column": 22
                },
                {
                  "Number": 24,
                  "Title": "Aliens",
                  "Description": "Fifty-seven years after surviving an apocalyptic attack aboard her space vessel by merciless space creatures, Officer Ripley awakens from hyper-sleep and tries to warn anyone who will listen about the predators.",
                  "Release date": 1986,
                  "Director": "James Cameron",
                  "Rating": "8.3",
                  "Duration": "137 min",
                  "Genre": "['Action', 'Adventure', 'Sci-Fi']",
                  "Stars": "['Sigourney Weaver ' 'Michael Biehn ' 'Carrie Henn ' 'Paul Reiser']",
                  "_deepnote_index_column": 23
                },
                {
                  "Number": 25,
                  "Title": "Star Wars: Episode VI - Return of the Jedi",
                  "Description": "After a daring mission to rescue Han Solo from Jabba the Hutt, the Rebels dispatch to Endor to destroy the second Death Star. Meanwhile, Luke struggles to help Darth Vader back from the dark side without falling into the Emperor's trap.",
                  "Release date": 1983,
                  "Director": "Richard Marquand",
                  "Rating": "8.3",
                  "Duration": "131 min",
                  "Genre": "['Action', 'Adventure', 'Fantasy']",
                  "Stars": "['Mark Hamill ' 'Harrison Ford ' 'Carrie Fisher ' 'Billy Dee Williams']",
                  "_deepnote_index_column": 24
                },
                {
                  "Number": 26,
                  "Title": "Das Boot",
                  "Description": "The claustrophobic world of a WWII German U-boat; boredom, filth and sheer terror.",
                  "Release date": 1981,
                  "Director": "Wolfgang Petersen",
                  "Rating": "8.3",
                  "Duration": "149 min",
                  "Genre": "['Adventure', 'Drama', 'Thriller']",
                  "Stars": "['Jürgen Prochnow ' 'Herbert Grönemeyer ' 'Klaus Wennemann ' 'Hubertus Bengsch']",
                  "_deepnote_index_column": 25
                },
                {
                  "Number": 27,
                  "Title": "2001: A Space Odyssey",
                  "Description": "After discovering a mysterious artifact buried beneath the Lunar surface, mankind sets off on a quest to find its origins with help from intelligent supercomputer H.A.L. 9000.",
                  "Release date": 1968,
                  "Director": "Stanley Kubrick",
                  "Rating": "8.3",
                  "Duration": "149 min",
                  "Genre": "['Adventure', 'Sci-Fi']",
                  "Stars": "['Keir Dullea ' 'Gary Lockwood ' 'William Sylvester ' 'Daniel Richter']",
                  "_deepnote_index_column": 26
                },
                {
                  "Number": 28,
                  "Title": "Lawrence of Arabia",
                  "Description": "The story of T.E. Lawrence, the English officer who successfully united and led the diverse, often warring, Arab tribes during World War I in order to fight the Turks.",
                  "Release date": 1962,
                  "Director": "David Lean",
                  "Rating": "8.3",
                  "Duration": "228 min",
                  "Genre": "['Adventure', 'Biography', 'Drama']",
                  "Stars": "[\"Peter O'Toole \" 'Alec Guinness ' 'Anthony Quinn ' 'Jack Hawkins']",
                  "_deepnote_index_column": 27
                },
                {
                  "Number": 29,
                  "Title": "North by Northwest",
                  "Description": "A New York City advertising executive goes on the run after being mistaken for a government agent by a group of foreign spies.",
                  "Release date": 1959,
                  "Director": "Alfred Hitchcock",
                  "Rating": "8.3",
                  "Duration": "136 min",
                  "Genre": "['Adventure', 'Mystery', 'Thriller']",
                  "Stars": "['Cary Grant ' 'Eva Marie Saint ' 'James Mason ' 'Jessie Royce Landis']",
                  "_deepnote_index_column": 28
                },
                {
                  "Number": 30,
                  "Title": "Baahubali 2: The Conclusion",
                  "Description": "When Shiva, the son of Bahubali, learns about his heritage, he begins to look for answers. His story is juxtaposed with past events that unfolded in the Mahishmati Kingdom.",
                  "Release date": 2017,
                  "Director": "S.S. Rajamouli",
                  "Rating": "8.2",
                  "Duration": "167 min",
                  "Genre": "['Action', 'Adventure', 'Drama']",
                  "Stars": "['Prabhas ' 'Rana Daggubati ' 'Anushka Shetty ' 'Tamannaah Bhatia']",
                  "_deepnote_index_column": 29
                },
                {
                  "Number": 31,
                  "Title": "Klaus",
                  "Description": "A simple act of kindness always sparks another, even in a frozen, faraway place. When Smeerensburg's new postman, Jesper, befriends toymaker Klaus, their gifts melt an age-old feud and deliver a sleigh full of holiday traditions.",
                  "Release date": 2019,
                  "Director": "Sergio Pablos",
                  "Rating": "8.2",
                  "Duration": "96 min",
                  "Genre": "['Animation', 'Adventure', 'Comedy']",
                  "Stars": "['    Stars:' 'Jason Schwartzman ' 'J.K. Simmons ' 'Rashida Jones ' 'Will Sasso']",
                  "_deepnote_index_column": 30
                },
                {
                  "Number": 32,
                  "Title": "Queen",
                  "Description": "A Delhi girl from a traditional family sets out on a solo honeymoon after her marriage gets cancelled.",
                  "Release date": 2013,
                  "Director": "Vikas Bahl",
                  "Rating": "8.2",
                  "Duration": "146 min",
                  "Genre": "['Adventure', 'Comedy', 'Drama']",
                  "Stars": "['Kangana Ranaut ' 'Rajkummar Rao ' 'Lisa Haydon ' 'Jeffrey Ho']",
                  "_deepnote_index_column": 31
                },
                {
                  "Number": 33,
                  "Title": "Up",
                  "Description": "78-year-old Carl Fredricksen travels to Paradise Falls in his house equipped with balloons, inadvertently taking a young stowaway.",
                  "Release date": 2009,
                  "Director": "Pete Docter",
                  "Rating": "8.2",
                  "Duration": "96 min",
                  "Genre": "['Animation', 'Adventure', 'Comedy']",
                  "Stars": "['    Stars:' 'Edward Asner ' 'Jordan Nagai ' 'John Ratzenberger ' 'Christopher Plummer']",
                  "_deepnote_index_column": 32
                },
                {
                  "Number": 34,
                  "Title": "Toy Story 3",
                  "Description": "The toys are mistakenly delivered to a day-care center instead of the attic right before Andy leaves for college, and it's up to Woody to convince the other toys that they weren't abandoned and to return home.",
                  "Release date": 2010,
                  "Director": "Lee Unkrich",
                  "Rating": "8.2",
                  "Duration": "103 min",
                  "Genre": "['Animation', 'Adventure', 'Comedy']",
                  "Stars": "['Tom Hanks ' 'Tim Allen ' 'Joan Cusack ' 'Ned Beatty']",
                  "_deepnote_index_column": 33
                },
                {
                  "Number": 35,
                  "Title": "Batman Begins",
                  "Description": "After training with his mentor, Batman begins his fight to free crime-ridden Gotham City from corruption.",
                  "Release date": 2005,
                  "Director": "Christopher Nolan",
                  "Rating": "8.2",
                  "Duration": "140 min",
                  "Genre": "['Action', 'Adventure']",
                  "Stars": "['Christian Bale ' 'Michael Caine ' 'Ken Watanabe ' 'Liam Neeson']",
                  "_deepnote_index_column": 34
                },
                {
                  "Number": 36,
                  "Title": "Howl's Moving Castle",
                  "Description": "When an unconfident young woman is cursed with an old body by a spiteful witch, her only chance of breaking the spell lies with a self-indulgent yet insecure young wizard and his companions in his legged, walking castle.",
                  "Release date": 2004,
                  "Director": "Hayao Miyazaki",
                  "Rating": "8.2",
                  "Duration": "119 min",
                  "Genre": "['Animation', 'Adventure', 'Family']",
                  "Stars": "['Chieko Baishô ' 'Takuya Kimura ' 'Tatsuya Gashûin ' 'Akihiro Miwa']",
                  "_deepnote_index_column": 35
                },
                {
                  "Number": 37,
                  "Title": "Indiana Jones and the Last Crusade",
                  "Description": "In 1938, after his father Professor Henry Jones, Sr. goes missing while pursuing the Holy Grail, Professor Henry \"Indiana\" Jones, Jr. finds himself up against Adolf Hitler's Nazis again to stop them from obtaining its powers.",
                  "Release date": 1989,
                  "Director": "Steven Spielberg",
                  "Rating": "8.2",
                  "Duration": "127 min",
                  "Genre": "['Action', 'Adventure']",
                  "Stars": "['Harrison Ford ' 'Sean Connery ' 'Alison Doody ' 'Denholm Elliott']",
                  "_deepnote_index_column": 36
                },
                {
                  "Number": 38,
                  "Title": "Sholay",
                  "Description": "After his family is murdered by a notorious and ruthless bandit, a former police officer enlists the services of two outlaws to capture the bandit.",
                  "Release date": 1975,
                  "Director": "Ramesh Sippy",
                  "Rating": "8.2",
                  "Duration": "162 min",
                  "Genre": "['Action', 'Adventure', 'Comedy']",
                  "Stars": "['Sanjeev Kumar ' 'Dharmendra ' 'Amitabh Bachchan ' 'Amjad Khan']",
                  "_deepnote_index_column": 37
                },
                {
                  "Number": 39,
                  "Title": "Monty Python and the Holy Grail",
                  "Description": "King Arthur and his Knights of the Round Table embark on a surreal, low-budget search for the Holy Grail, encountering many, very silly obstacles.",
                  "Release date": 1975,
                  "Director": "Terry Gilliam",
                  "Rating": "8.2",
                  "Duration": "91 min",
                  "Genre": "['Adventure', 'Comedy', 'Fantasy']",
                  "Stars": "['    Stars:' 'Graham Chapman ' 'John Cleese ' 'Eric Idle ' 'Terry Gilliam']",
                  "_deepnote_index_column": 38
                },
                {
                  "Number": 40,
                  "Title": "The Great Escape",
                  "Description": "Allied prisoners of war plan for several hundred of their number to escape from a German camp during World War II.",
                  "Release date": 1963,
                  "Director": "John Sturges",
                  "Rating": "8.2",
                  "Duration": "172 min",
                  "Genre": "['Adventure', 'Drama', 'History']",
                  "Stars": "['Steve McQueen ' 'James Garner ' 'Richard Attenborough ' 'Charles Bronson']",
                  "_deepnote_index_column": 39
                },
                {
                  "Number": 41,
                  "Title": "The Treasure of the Sierra Madre",
                  "Description": "Two Americans searching for work in Mexico convince an old prospector to help them mine for gold in the Sierra Madre Mountains.",
                  "Release date": 1948,
                  "Director": "John Huston",
                  "Rating": "8.2",
                  "Duration": "126 min",
                  "Genre": "['Adventure', 'Drama', 'Western']",
                  "Stars": "['Humphrey Bogart ' 'Walter Huston ' 'Tim Holt ' 'Bruce Bennett']",
                  "_deepnote_index_column": 40
                },
                {
                  "Number": 42,
                  "Title": "The Gold Rush",
                  "Description": "A prospector goes to the Klondike in search of gold and finds it and more.",
                  "Release date": 1925,
                  "Director": "Charles Chaplin",
                  "Rating": "8.2",
                  "Duration": "95 min",
                  "Genre": "['Adventure', 'Comedy', 'Drama']",
                  "Stars": "['Charles Chaplin ' 'Mack Swain ' 'Tom Murray ' 'Henry Bergman']",
                  "_deepnote_index_column": 41
                },
                {
                  "Number": 43,
                  "Title": "Soul",
                  "Description": "After landing the gig of a lifetime, a New York jazz pianist suddenly finds himself trapped in a strange land between Earth and the afterlife.",
                  "Release date": 2020,
                  "Director": "Pete Docter",
                  "Rating": "8.1",
                  "Duration": "100 min",
                  "Genre": "['Animation', 'Adventure', 'Comedy']",
                  "Stars": "['    Stars:' 'Jamie Foxx ' 'Tina Fey ' 'Graham Norton ' 'Rachel House']",
                  "_deepnote_index_column": 42
                },
                {
                  "Number": 44,
                  "Title": "The Grand Budapest Hotel",
                  "Description": "A writer encounters the owner of an aging high-class hotel, who tells him of his early years serving as a lobby boy in the hotel's glorious years under an exceptional concierge.",
                  "Release date": 2014,
                  "Director": "Wes Anderson",
                  "Rating": "8.1",
                  "Duration": "99 min",
                  "Genre": "['Adventure', 'Comedy', 'Crime']",
                  "Stars": "['Ralph Fiennes ' 'F. Murray Abraham ' 'Mathieu Amalric ' 'Adrien Brody']",
                  "_deepnote_index_column": 43
                },
                {
                  "Number": 45,
                  "Title": "Inside Out",
                  "Description": "After young Riley is uprooted from her Midwest life and moved to San Francisco, her emotions - Joy, Fear, Anger, Disgust and Sadness - conflict on how best to navigate a new city, house, and school.",
                  "Release date": 2015,
                  "Director": "Pete Docter",
                  "Rating": "8.1",
                  "Duration": "95 min",
                  "Genre": "['Animation', 'Adventure', 'Comedy']",
                  "Stars": "['    Stars:' 'Amy Poehler ' 'Bill Hader ' 'Lewis Black ' 'Mindy Kaling']",
                  "_deepnote_index_column": 44
                },
                {
                  "Number": 46,
                  "Title": "Song of the Sea",
                  "Description": "Ben, a young Irish boy, and his little sister Saoirse, a girl who can turn into a seal, go on an adventure to free the fairies and save the spirit world.",
                  "Release date": 2014,
                  "Director": "Tomm Moore",
                  "Rating": "8.1",
                  "Duration": "93 min",
                  "Genre": "['Animation', 'Adventure', 'Drama']",
                  "Stars": "['David Rawle ' 'Brendan Gleeson ' 'Lisa Hannigan ' 'Fionnula Flanagan']",
                  "_deepnote_index_column": 45
                },
                {
                  "Number": 47,
                  "Title": "Mad Max: Fury Road",
                  "Description": "In a post-apocalyptic wasteland, a woman rebels against a tyrannical ruler in search for her homeland with the aid of a group of female prisoners, a psychotic worshiper, and a drifter named Max.",
                  "Release date": 2015,
                  "Director": "George Miller",
                  "Rating": "8.1",
                  "Duration": "120 min",
                  "Genre": "['Action', 'Adventure', 'Sci-Fi']",
                  "Stars": "['Tom Hardy ' 'Charlize Theron ' 'Nicholas Hoult ' 'Zoë Kravitz']",
                  "_deepnote_index_column": 46
                },
                {
                  "Number": 48,
                  "Title": "Harry Potter and the Deathly Hallows: Part 2",
                  "Description": "Harry, Ron, and Hermione search for Voldemort's remaining Horcruxes in their effort to destroy the Dark Lord as the final battle rages on at Hogwarts.",
                  "Release date": 2011,
                  "Director": "David Yates",
                  "Rating": "8.1",
                  "Duration": "130 min",
                  "Genre": "['Adventure', 'Drama', 'Fantasy']",
                  "Stars": "['Daniel Radcliffe ' 'Emma Watson ' 'Rupert Grint ' 'Michael Gambon']",
                  "_deepnote_index_column": 47
                },
                {
                  "Number": 49,
                  "Title": "How to Train Your Dragon",
                  "Description": "A hapless young Viking who aspires to hunt dragons becomes the unlikely friend of a young dragon himself, and learns there may be more to the creatures than he assumed.",
                  "Release date": 2010,
                  "Director": "Dean DeBlois",
                  "Rating": "8.1",
                  "Duration": "98 min",
                  "Genre": "['Animation', 'Action', 'Adventure']",
                  "Stars": "['    Stars:' 'Jay Baruchel ' 'Gerard Butler ' 'Christopher Mintz-Plasse ' 'Craig Ferguson']",
                  "_deepnote_index_column": 48
                },
                {
                  "Number": 50,
                  "Title": "Into the Wild",
                  "Description": "After graduating from Emory University, top student and athlete Christopher McCandless abandons his possessions, gives his entire $24,000 savings account to charity and hitchhikes to Alaska to live in the wilderness. Along the way, Christopher encounters a series of characters that shape his life.",
                  "Release date": 2007,
                  "Director": "Sean Penn",
                  "Rating": "8.1",
                  "Duration": "148 min",
                  "Genre": "['Adventure', 'Biography', 'Drama']",
                  "Stars": "['Emile Hirsch ' 'Vince Vaughn ' 'Catherine Keener ' 'Marcia Gay Harden']",
                  "_deepnote_index_column": 49
                }
              ],
              "rows_bottom": null
            },
            "text/plain": "    Number                                              Title  \\\n0        1      The Lord of the Rings: The Return of the King   \n1        2                                          Inception   \n2        3  The Lord of the Rings: The Fellowship of the Ring   \n3        4              The Lord of the Rings: The Two Towers   \n4        5     Star Wars: Episode V - The Empire Strikes Back   \n5        6                                       Interstellar   \n6        7                                      Spirited Away   \n7        8                 Star Wars: Episode IV - A New Hope   \n8        9                                      Seven Samurai   \n9       10                                          Gladiator   \n10      11                                      The Lion King   \n11      12                                 Back to the Future   \n12      13                  Spider-Man: Into the Spider-Verse   \n13      14                                  Avengers: Endgame   \n14      15                             Avengers: Infinity War   \n15      16                                               Coco   \n16      17                              The Dark Knight Rises   \n17      18                                             WALL·E   \n18      19                                  Princess Mononoke   \n19      20                            Raiders of the Lost Ark   \n20      21                       Zack Snyder's Justice League   \n21      22                               Inglourious Basterds   \n22      23                                          Toy Story   \n23      24                                             Aliens   \n24      25         Star Wars: Episode VI - Return of the Jedi   \n25      26                                           Das Boot   \n26      27                              2001: A Space Odyssey   \n27      28                                 Lawrence of Arabia   \n28      29                                 North by Northwest   \n29      30                        Baahubali 2: The Conclusion   \n30      31                                              Klaus   \n31      32                                              Queen   \n32      33                                                 Up   \n33      34                                        Toy Story 3   \n34      35                                      Batman Begins   \n35      36                               Howl's Moving Castle   \n36      37                 Indiana Jones and the Last Crusade   \n37      38                                             Sholay   \n38      39                    Monty Python and the Holy Grail   \n39      40                                   The Great Escape   \n40      41                   The Treasure of the Sierra Madre   \n41      42                                      The Gold Rush   \n42      43                                               Soul   \n43      44                           The Grand Budapest Hotel   \n44      45                                         Inside Out   \n45      46                                    Song of the Sea   \n46      47                                 Mad Max: Fury Road   \n47      48       Harry Potter and the Deathly Hallows: Part 2   \n48      49                           How to Train Your Dragon   \n49      50                                      Into the Wild   \n\n                                          Description  Release date  \\\n0   Gandalf and Aragorn lead the World of Men agai...          2003   \n1   A thief who steals corporate secrets through t...          2010   \n2   A meek Hobbit from the Shire and eight compani...          2001   \n3   While Frodo and Sam edge closer to Mordor with...          2002   \n4   After the Rebels are brutally overpowered by t...          1980   \n5   A team of explorers travel through a wormhole ...          2014   \n6   During her family's move to the suburbs, a sul...          2001   \n7   Luke Skywalker joins forces with a Jedi Knight...          1977   \n8   A poor village under attack by bandits recruit...          1954   \n9   A former Roman General sets out to exact venge...          2000   \n10  Lion prince Simba and his father are targeted ...          1994   \n11  Marty McFly, a 17-year-old high school student...          1985   \n12  Teen Miles Morales becomes the Spider-Man of h...          2018   \n13  After the devastating events of Avengers: Infi...          2019   \n14  The Avengers and their allies must be willing ...          2018   \n15  Aspiring musician Miguel, confronted with his ...          2017   \n16  Eight years after the Joker's reign of anarchy...          2012   \n17  In the distant future, a small waste-collectin...          2008   \n18  On a journey to find the cure for a Tatarigami...          1997   \n19  In 1936, archaeologist and adventurer Indiana ...          1981   \n20  Determined to ensure Superman's ultimate sacri...          2021   \n21  In Nazi-occupied France during World War II, a...          2009   \n22  A cowboy doll is profoundly threatened and jea...          1995   \n23  Fifty-seven years after surviving an apocalypt...          1986   \n24  After a daring mission to rescue Han Solo from...          1983   \n25  The claustrophobic world of a WWII German U-bo...          1981   \n26  After discovering a mysterious artifact buried...          1968   \n27  The story of T.E. Lawrence, the English office...          1962   \n28  A New York City advertising executive goes on ...          1959   \n29  When Shiva, the son of Bahubali, learns about ...          2017   \n30  A simple act of kindness always sparks another...          2019   \n31  A Delhi girl from a traditional family sets ou...          2013   \n32  78-year-old Carl Fredricksen travels to Paradi...          2009   \n33  The toys are mistakenly delivered to a day-car...          2010   \n34  After training with his mentor, Batman begins ...          2005   \n35  When an unconfident young woman is cursed with...          2004   \n36  In 1938, after his father Professor Henry Jone...          1989   \n37  After his family is murdered by a notorious an...          1975   \n38  King Arthur and his Knights of the Round Table...          1975   \n39  Allied prisoners of war plan for several hundr...          1963   \n40  Two Americans searching for work in Mexico con...          1948   \n41  A prospector goes to the Klondike in search of...          1925   \n42  After landing the gig of a lifetime, a New Yor...          2020   \n43  A writer encounters the owner of an aging high...          2014   \n44  After young Riley is uprooted from her Midwest...          2015   \n45  Ben, a young Irish boy, and his little sister ...          2014   \n46  In a post-apocalyptic wasteland, a woman rebel...          2015   \n47  Harry, Ron, and Hermione search for Voldemort'...          2011   \n48  A hapless young Viking who aspires to hunt dra...          2010   \n49  After graduating from Emory University, top st...          2007   \n\n             Director Rating Duration                           Genre  \\\n0       Peter Jackson    8.9  201 min      [Action, Adventure, Drama]   \n1   Christopher Nolan    8.8  148 min     [Action, Adventure, Sci-Fi]   \n2       Peter Jackson    8.8  178 min      [Action, Adventure, Drama]   \n3       Peter Jackson    8.7  179 min      [Action, Adventure, Drama]   \n4      Irvin Kershner    8.7  124 min    [Action, Adventure, Fantasy]   \n5   Christopher Nolan    8.6  169 min      [Adventure, Drama, Sci-Fi]   \n6      Hayao Miyazaki    8.6  125 min  [Animation, Adventure, Family]   \n7        George Lucas    8.6  121 min    [Action, Adventure, Fantasy]   \n8      Akira Kurosawa    8.6  207 min      [Action, Adventure, Drama]   \n9        Ridley Scott    8.5  155 min      [Action, Adventure, Drama]   \n10       Roger Allers    8.5   88 min   [Animation, Adventure, Drama]   \n11    Robert Zemeckis    8.5  116 min     [Adventure, Comedy, Sci-Fi]   \n12    Bob Persichetti    8.4  117 min  [Animation, Action, Adventure]   \n13      Anthony Russo    8.4  181 min      [Action, Adventure, Drama]   \n14      Anthony Russo    8.4  149 min     [Action, Adventure, Sci-Fi]   \n15        Lee Unkrich    8.4  105 min  [Animation, Adventure, Family]   \n16  Christopher Nolan    8.4  164 min             [Action, Adventure]   \n17     Andrew Stanton    8.4   98 min  [Animation, Adventure, Family]   \n18     Hayao Miyazaki    8.4  134 min  [Animation, Action, Adventure]   \n19   Steven Spielberg    8.4  115 min             [Action, Adventure]   \n20        Zack Snyder    8.3  242 min    [Action, Adventure, Fantasy]   \n21  Quentin Tarantino    8.3  153 min         [Adventure, Drama, War]   \n22      John Lasseter    8.3   81 min  [Animation, Adventure, Comedy]   \n23      James Cameron    8.3  137 min     [Action, Adventure, Sci-Fi]   \n24   Richard Marquand    8.3  131 min    [Action, Adventure, Fantasy]   \n25  Wolfgang Petersen    8.3  149 min    [Adventure, Drama, Thriller]   \n26    Stanley Kubrick    8.3  149 min             [Adventure, Sci-Fi]   \n27         David Lean    8.3  228 min   [Adventure, Biography, Drama]   \n28   Alfred Hitchcock    8.3  136 min  [Adventure, Mystery, Thriller]   \n29     S.S. Rajamouli    8.2  167 min      [Action, Adventure, Drama]   \n30      Sergio Pablos    8.2   96 min  [Animation, Adventure, Comedy]   \n31         Vikas Bahl    8.2  146 min      [Adventure, Comedy, Drama]   \n32        Pete Docter    8.2   96 min  [Animation, Adventure, Comedy]   \n33        Lee Unkrich    8.2  103 min  [Animation, Adventure, Comedy]   \n34  Christopher Nolan    8.2  140 min             [Action, Adventure]   \n35     Hayao Miyazaki    8.2  119 min  [Animation, Adventure, Family]   \n36   Steven Spielberg    8.2  127 min             [Action, Adventure]   \n37       Ramesh Sippy    8.2  162 min     [Action, Adventure, Comedy]   \n38      Terry Gilliam    8.2   91 min    [Adventure, Comedy, Fantasy]   \n39       John Sturges    8.2  172 min     [Adventure, Drama, History]   \n40        John Huston    8.2  126 min     [Adventure, Drama, Western]   \n41    Charles Chaplin    8.2   95 min      [Adventure, Comedy, Drama]   \n42        Pete Docter    8.1  100 min  [Animation, Adventure, Comedy]   \n43       Wes Anderson    8.1   99 min      [Adventure, Comedy, Crime]   \n44        Pete Docter    8.1   95 min  [Animation, Adventure, Comedy]   \n45         Tomm Moore    8.1   93 min   [Animation, Adventure, Drama]   \n46      George Miller    8.1  120 min     [Action, Adventure, Sci-Fi]   \n47        David Yates    8.1  130 min     [Adventure, Drama, Fantasy]   \n48       Dean DeBlois    8.1   98 min  [Animation, Action, Adventure]   \n49          Sean Penn    8.1  148 min   [Adventure, Biography, Drama]   \n\n                                                Stars  \n0   ['Elijah Wood ' 'Viggo Mortensen ' 'Ian McKell...  \n1   ['Leonardo DiCaprio ' 'Joseph Gordon-Levitt ' ...  \n2   ['Elijah Wood ' 'Ian McKellen ' 'Orlando Bloom...  \n3   ['Elijah Wood ' 'Ian McKellen ' 'Viggo Mortens...  \n4   ['Mark Hamill ' 'Harrison Ford ' 'Carrie Fishe...  \n5   ['Matthew McConaughey ' 'Anne Hathaway ' 'Jess...  \n6   ['Daveigh Chase ' 'Suzanne Pleshette ' 'Miyu I...  \n7   ['Mark Hamill ' 'Harrison Ford ' 'Carrie Fishe...  \n8   ['Toshirô Mifune ' 'Takashi Shimura ' 'Keiko T...  \n9   ['Russell Crowe ' 'Joaquin Phoenix ' 'Connie N...  \n10  ['    Stars:' 'Matthew Broderick ' 'Jeremy Iro...  \n11  ['Michael J. Fox ' 'Christopher Lloyd ' 'Lea T...  \n12  ['| ' '    Stars:' 'Shameik Moore ' 'Jake John...  \n13  ['    Stars:' 'Robert Downey Jr. ' 'Chris Evan...  \n14  ['    Stars:' 'Robert Downey Jr. ' 'Chris Hems...  \n15  ['    Stars:' 'Anthony Gonzalez ' 'Gael García...  \n16  ['Christian Bale ' 'Tom Hardy ' 'Anne Hathaway...  \n17  ['Ben Burtt ' 'Elissa Knight ' 'Jeff Garlin ' ...  \n18  ['Yôji Matsuda ' 'Yuriko Ishida ' 'Yûko Tanaka...  \n19  ['Harrison Ford ' 'Karen Allen ' 'Paul Freeman...  \n20  ['Henry Cavill ' 'Ben Affleck ' 'Gal Gadot ' '...  \n21  ['Brad Pitt ' 'Diane Kruger ' 'Eli Roth ' 'Mél...  \n22  ['Tom Hanks ' 'Tim Allen ' 'Don Rickles ' 'Jim...  \n23  ['Sigourney Weaver ' 'Michael Biehn ' 'Carrie ...  \n24  ['Mark Hamill ' 'Harrison Ford ' 'Carrie Fishe...  \n25  ['Jürgen Prochnow ' 'Herbert Grönemeyer ' 'Kla...  \n26  ['Keir Dullea ' 'Gary Lockwood ' 'William Sylv...  \n27  [\"Peter O'Toole \" 'Alec Guinness ' 'Anthony Qu...  \n28  ['Cary Grant ' 'Eva Marie Saint ' 'James Mason...  \n29  ['Prabhas ' 'Rana Daggubati ' 'Anushka Shetty ...  \n30  ['    Stars:' 'Jason Schwartzman ' 'J.K. Simmo...  \n31  ['Kangana Ranaut ' 'Rajkummar Rao ' 'Lisa Hayd...  \n32  ['    Stars:' 'Edward Asner ' 'Jordan Nagai ' ...  \n33  ['Tom Hanks ' 'Tim Allen ' 'Joan Cusack ' 'Ned...  \n34  ['Christian Bale ' 'Michael Caine ' 'Ken Watan...  \n35  ['Chieko Baishô ' 'Takuya Kimura ' 'Tatsuya Ga...  \n36  ['Harrison Ford ' 'Sean Connery ' 'Alison Dood...  \n37  ['Sanjeev Kumar ' 'Dharmendra ' 'Amitabh Bachc...  \n38  ['    Stars:' 'Graham Chapman ' 'John Cleese '...  \n39  ['Steve McQueen ' 'James Garner ' 'Richard Att...  \n40  ['Humphrey Bogart ' 'Walter Huston ' 'Tim Holt...  \n41  ['Charles Chaplin ' 'Mack Swain ' 'Tom Murray ...  \n42  ['    Stars:' 'Jamie Foxx ' 'Tina Fey ' 'Graha...  \n43  ['Ralph Fiennes ' 'F. Murray Abraham ' 'Mathie...  \n44  ['    Stars:' 'Amy Poehler ' 'Bill Hader ' 'Le...  \n45  ['David Rawle ' 'Brendan Gleeson ' 'Lisa Hanni...  \n46  ['Tom Hardy ' 'Charlize Theron ' 'Nicholas Hou...  \n47  ['Daniel Radcliffe ' 'Emma Watson ' 'Rupert Gr...  \n48  ['    Stars:' 'Jay Baruchel ' 'Gerard Butler '...  \n49  ['Emile Hirsch ' 'Vince Vaughn ' 'Catherine Ke...  ",
            "text/html": "<div>\n<style scoped>\n    .dataframe tbody tr th:only-of-type {\n        vertical-align: middle;\n    }\n\n    .dataframe tbody tr th {\n        vertical-align: top;\n    }\n\n    .dataframe thead th {\n        text-align: right;\n    }\n</style>\n<table border=\"1\" class=\"dataframe\">\n  <thead>\n    <tr style=\"text-align: right;\">\n      <th></th>\n      <th>Number</th>\n      <th>Title</th>\n      <th>Description</th>\n      <th>Release date</th>\n      <th>Director</th>\n      <th>Rating</th>\n      <th>Duration</th>\n      <th>Genre</th>\n      <th>Stars</th>\n    </tr>\n  </thead>\n  <tbody>\n    <tr>\n      <th>0</th>\n      <td>1</td>\n      <td>The Lord of the Rings: The Return of the King</td>\n      <td>Gandalf and Aragorn lead the World of Men agai...</td>\n      <td>2003</td>\n      <td>Peter Jackson</td>\n      <td>8.9</td>\n      <td>201 min</td>\n      <td>[Action, Adventure, Drama]</td>\n      <td>['Elijah Wood ' 'Viggo Mortensen ' 'Ian McKell...</td>\n    </tr>\n    <tr>\n      <th>1</th>\n      <td>2</td>\n      <td>Inception</td>\n      <td>A thief who steals corporate secrets through t...</td>\n      <td>2010</td>\n      <td>Christopher Nolan</td>\n      <td>8.8</td>\n      <td>148 min</td>\n      <td>[Action, Adventure, Sci-Fi]</td>\n      <td>['Leonardo DiCaprio ' 'Joseph Gordon-Levitt ' ...</td>\n    </tr>\n    <tr>\n      <th>2</th>\n      <td>3</td>\n      <td>The Lord of the Rings: The Fellowship of the Ring</td>\n      <td>A meek Hobbit from the Shire and eight compani...</td>\n      <td>2001</td>\n      <td>Peter Jackson</td>\n      <td>8.8</td>\n      <td>178 min</td>\n      <td>[Action, Adventure, Drama]</td>\n      <td>['Elijah Wood ' 'Ian McKellen ' 'Orlando Bloom...</td>\n    </tr>\n    <tr>\n      <th>3</th>\n      <td>4</td>\n      <td>The Lord of the Rings: The Two Towers</td>\n      <td>While Frodo and Sam edge closer to Mordor with...</td>\n      <td>2002</td>\n      <td>Peter Jackson</td>\n      <td>8.7</td>\n      <td>179 min</td>\n      <td>[Action, Adventure, Drama]</td>\n      <td>['Elijah Wood ' 'Ian McKellen ' 'Viggo Mortens...</td>\n    </tr>\n    <tr>\n      <th>4</th>\n      <td>5</td>\n      <td>Star Wars: Episode V - The Empire Strikes Back</td>\n      <td>After the Rebels are brutally overpowered by t...</td>\n      <td>1980</td>\n      <td>Irvin Kershner</td>\n      <td>8.7</td>\n      <td>124 min</td>\n      <td>[Action, Adventure, Fantasy]</td>\n      <td>['Mark Hamill ' 'Harrison Ford ' 'Carrie Fishe...</td>\n    </tr>\n    <tr>\n      <th>5</th>\n      <td>6</td>\n      <td>Interstellar</td>\n      <td>A team of explorers travel through a wormhole ...</td>\n      <td>2014</td>\n      <td>Christopher Nolan</td>\n      <td>8.6</td>\n      <td>169 min</td>\n      <td>[Adventure, Drama, Sci-Fi]</td>\n      <td>['Matthew McConaughey ' 'Anne Hathaway ' 'Jess...</td>\n    </tr>\n    <tr>\n      <th>6</th>\n      <td>7</td>\n      <td>Spirited Away</td>\n      <td>During her family's move to the suburbs, a sul...</td>\n      <td>2001</td>\n      <td>Hayao Miyazaki</td>\n      <td>8.6</td>\n      <td>125 min</td>\n      <td>[Animation, Adventure, Family]</td>\n      <td>['Daveigh Chase ' 'Suzanne Pleshette ' 'Miyu I...</td>\n    </tr>\n    <tr>\n      <th>7</th>\n      <td>8</td>\n      <td>Star Wars: Episode IV - A New Hope</td>\n      <td>Luke Skywalker joins forces with a Jedi Knight...</td>\n      <td>1977</td>\n      <td>George Lucas</td>\n      <td>8.6</td>\n      <td>121 min</td>\n      <td>[Action, Adventure, Fantasy]</td>\n      <td>['Mark Hamill ' 'Harrison Ford ' 'Carrie Fishe...</td>\n    </tr>\n    <tr>\n      <th>8</th>\n      <td>9</td>\n      <td>Seven Samurai</td>\n      <td>A poor village under attack by bandits recruit...</td>\n      <td>1954</td>\n      <td>Akira Kurosawa</td>\n      <td>8.6</td>\n      <td>207 min</td>\n      <td>[Action, Adventure, Drama]</td>\n      <td>['Toshirô Mifune ' 'Takashi Shimura ' 'Keiko T...</td>\n    </tr>\n    <tr>\n      <th>9</th>\n      <td>10</td>\n      <td>Gladiator</td>\n      <td>A former Roman General sets out to exact venge...</td>\n      <td>2000</td>\n      <td>Ridley Scott</td>\n      <td>8.5</td>\n      <td>155 min</td>\n      <td>[Action, Adventure, Drama]</td>\n      <td>['Russell Crowe ' 'Joaquin Phoenix ' 'Connie N...</td>\n    </tr>\n    <tr>\n      <th>10</th>\n      <td>11</td>\n      <td>The Lion King</td>\n      <td>Lion prince Simba and his father are targeted ...</td>\n      <td>1994</td>\n      <td>Roger Allers</td>\n      <td>8.5</td>\n      <td>88 min</td>\n      <td>[Animation, Adventure, Drama]</td>\n      <td>['    Stars:' 'Matthew Broderick ' 'Jeremy Iro...</td>\n    </tr>\n    <tr>\n      <th>11</th>\n      <td>12</td>\n      <td>Back to the Future</td>\n      <td>Marty McFly, a 17-year-old high school student...</td>\n      <td>1985</td>\n      <td>Robert Zemeckis</td>\n      <td>8.5</td>\n      <td>116 min</td>\n      <td>[Adventure, Comedy, Sci-Fi]</td>\n      <td>['Michael J. Fox ' 'Christopher Lloyd ' 'Lea T...</td>\n    </tr>\n    <tr>\n      <th>12</th>\n      <td>13</td>\n      <td>Spider-Man: Into the Spider-Verse</td>\n      <td>Teen Miles Morales becomes the Spider-Man of h...</td>\n      <td>2018</td>\n      <td>Bob Persichetti</td>\n      <td>8.4</td>\n      <td>117 min</td>\n      <td>[Animation, Action, Adventure]</td>\n      <td>['| ' '    Stars:' 'Shameik Moore ' 'Jake John...</td>\n    </tr>\n    <tr>\n      <th>13</th>\n      <td>14</td>\n      <td>Avengers: Endgame</td>\n      <td>After the devastating events of Avengers: Infi...</td>\n      <td>2019</td>\n      <td>Anthony Russo</td>\n      <td>8.4</td>\n      <td>181 min</td>\n      <td>[Action, Adventure, Drama]</td>\n      <td>['    Stars:' 'Robert Downey Jr. ' 'Chris Evan...</td>\n    </tr>\n    <tr>\n      <th>14</th>\n      <td>15</td>\n      <td>Avengers: Infinity War</td>\n      <td>The Avengers and their allies must be willing ...</td>\n      <td>2018</td>\n      <td>Anthony Russo</td>\n      <td>8.4</td>\n      <td>149 min</td>\n      <td>[Action, Adventure, Sci-Fi]</td>\n      <td>['    Stars:' 'Robert Downey Jr. ' 'Chris Hems...</td>\n    </tr>\n    <tr>\n      <th>15</th>\n      <td>16</td>\n      <td>Coco</td>\n      <td>Aspiring musician Miguel, confronted with his ...</td>\n      <td>2017</td>\n      <td>Lee Unkrich</td>\n      <td>8.4</td>\n      <td>105 min</td>\n      <td>[Animation, Adventure, Family]</td>\n      <td>['    Stars:' 'Anthony Gonzalez ' 'Gael García...</td>\n    </tr>\n    <tr>\n      <th>16</th>\n      <td>17</td>\n      <td>The Dark Knight Rises</td>\n      <td>Eight years after the Joker's reign of anarchy...</td>\n      <td>2012</td>\n      <td>Christopher Nolan</td>\n      <td>8.4</td>\n      <td>164 min</td>\n      <td>[Action, Adventure]</td>\n      <td>['Christian Bale ' 'Tom Hardy ' 'Anne Hathaway...</td>\n    </tr>\n    <tr>\n      <th>17</th>\n      <td>18</td>\n      <td>WALL·E</td>\n      <td>In the distant future, a small waste-collectin...</td>\n      <td>2008</td>\n      <td>Andrew Stanton</td>\n      <td>8.4</td>\n      <td>98 min</td>\n      <td>[Animation, Adventure, Family]</td>\n      <td>['Ben Burtt ' 'Elissa Knight ' 'Jeff Garlin ' ...</td>\n    </tr>\n    <tr>\n      <th>18</th>\n      <td>19</td>\n      <td>Princess Mononoke</td>\n      <td>On a journey to find the cure for a Tatarigami...</td>\n      <td>1997</td>\n      <td>Hayao Miyazaki</td>\n      <td>8.4</td>\n      <td>134 min</td>\n      <td>[Animation, Action, Adventure]</td>\n      <td>['Yôji Matsuda ' 'Yuriko Ishida ' 'Yûko Tanaka...</td>\n    </tr>\n    <tr>\n      <th>19</th>\n      <td>20</td>\n      <td>Raiders of the Lost Ark</td>\n      <td>In 1936, archaeologist and adventurer Indiana ...</td>\n      <td>1981</td>\n      <td>Steven Spielberg</td>\n      <td>8.4</td>\n      <td>115 min</td>\n      <td>[Action, Adventure]</td>\n      <td>['Harrison Ford ' 'Karen Allen ' 'Paul Freeman...</td>\n    </tr>\n    <tr>\n      <th>20</th>\n      <td>21</td>\n      <td>Zack Snyder's Justice League</td>\n      <td>Determined to ensure Superman's ultimate sacri...</td>\n      <td>2021</td>\n      <td>Zack Snyder</td>\n      <td>8.3</td>\n      <td>242 min</td>\n      <td>[Action, Adventure, Fantasy]</td>\n      <td>['Henry Cavill ' 'Ben Affleck ' 'Gal Gadot ' '...</td>\n    </tr>\n    <tr>\n      <th>21</th>\n      <td>22</td>\n      <td>Inglourious Basterds</td>\n      <td>In Nazi-occupied France during World War II, a...</td>\n      <td>2009</td>\n      <td>Quentin Tarantino</td>\n      <td>8.3</td>\n      <td>153 min</td>\n      <td>[Adventure, Drama, War]</td>\n      <td>['Brad Pitt ' 'Diane Kruger ' 'Eli Roth ' 'Mél...</td>\n    </tr>\n    <tr>\n      <th>22</th>\n      <td>23</td>\n      <td>Toy Story</td>\n      <td>A cowboy doll is profoundly threatened and jea...</td>\n      <td>1995</td>\n      <td>John Lasseter</td>\n      <td>8.3</td>\n      <td>81 min</td>\n      <td>[Animation, Adventure, Comedy]</td>\n      <td>['Tom Hanks ' 'Tim Allen ' 'Don Rickles ' 'Jim...</td>\n    </tr>\n    <tr>\n      <th>23</th>\n      <td>24</td>\n      <td>Aliens</td>\n      <td>Fifty-seven years after surviving an apocalypt...</td>\n      <td>1986</td>\n      <td>James Cameron</td>\n      <td>8.3</td>\n      <td>137 min</td>\n      <td>[Action, Adventure, Sci-Fi]</td>\n      <td>['Sigourney Weaver ' 'Michael Biehn ' 'Carrie ...</td>\n    </tr>\n    <tr>\n      <th>24</th>\n      <td>25</td>\n      <td>Star Wars: Episode VI - Return of the Jedi</td>\n      <td>After a daring mission to rescue Han Solo from...</td>\n      <td>1983</td>\n      <td>Richard Marquand</td>\n      <td>8.3</td>\n      <td>131 min</td>\n      <td>[Action, Adventure, Fantasy]</td>\n      <td>['Mark Hamill ' 'Harrison Ford ' 'Carrie Fishe...</td>\n    </tr>\n    <tr>\n      <th>25</th>\n      <td>26</td>\n      <td>Das Boot</td>\n      <td>The claustrophobic world of a WWII German U-bo...</td>\n      <td>1981</td>\n      <td>Wolfgang Petersen</td>\n      <td>8.3</td>\n      <td>149 min</td>\n      <td>[Adventure, Drama, Thriller]</td>\n      <td>['Jürgen Prochnow ' 'Herbert Grönemeyer ' 'Kla...</td>\n    </tr>\n    <tr>\n      <th>26</th>\n      <td>27</td>\n      <td>2001: A Space Odyssey</td>\n      <td>After discovering a mysterious artifact buried...</td>\n      <td>1968</td>\n      <td>Stanley Kubrick</td>\n      <td>8.3</td>\n      <td>149 min</td>\n      <td>[Adventure, Sci-Fi]</td>\n      <td>['Keir Dullea ' 'Gary Lockwood ' 'William Sylv...</td>\n    </tr>\n    <tr>\n      <th>27</th>\n      <td>28</td>\n      <td>Lawrence of Arabia</td>\n      <td>The story of T.E. Lawrence, the English office...</td>\n      <td>1962</td>\n      <td>David Lean</td>\n      <td>8.3</td>\n      <td>228 min</td>\n      <td>[Adventure, Biography, Drama]</td>\n      <td>[\"Peter O'Toole \" 'Alec Guinness ' 'Anthony Qu...</td>\n    </tr>\n    <tr>\n      <th>28</th>\n      <td>29</td>\n      <td>North by Northwest</td>\n      <td>A New York City advertising executive goes on ...</td>\n      <td>1959</td>\n      <td>Alfred Hitchcock</td>\n      <td>8.3</td>\n      <td>136 min</td>\n      <td>[Adventure, Mystery, Thriller]</td>\n      <td>['Cary Grant ' 'Eva Marie Saint ' 'James Mason...</td>\n    </tr>\n    <tr>\n      <th>29</th>\n      <td>30</td>\n      <td>Baahubali 2: The Conclusion</td>\n      <td>When Shiva, the son of Bahubali, learns about ...</td>\n      <td>2017</td>\n      <td>S.S. Rajamouli</td>\n      <td>8.2</td>\n      <td>167 min</td>\n      <td>[Action, Adventure, Drama]</td>\n      <td>['Prabhas ' 'Rana Daggubati ' 'Anushka Shetty ...</td>\n    </tr>\n    <tr>\n      <th>30</th>\n      <td>31</td>\n      <td>Klaus</td>\n      <td>A simple act of kindness always sparks another...</td>\n      <td>2019</td>\n      <td>Sergio Pablos</td>\n      <td>8.2</td>\n      <td>96 min</td>\n      <td>[Animation, Adventure, Comedy]</td>\n      <td>['    Stars:' 'Jason Schwartzman ' 'J.K. Simmo...</td>\n    </tr>\n    <tr>\n      <th>31</th>\n      <td>32</td>\n      <td>Queen</td>\n      <td>A Delhi girl from a traditional family sets ou...</td>\n      <td>2013</td>\n      <td>Vikas Bahl</td>\n      <td>8.2</td>\n      <td>146 min</td>\n      <td>[Adventure, Comedy, Drama]</td>\n      <td>['Kangana Ranaut ' 'Rajkummar Rao ' 'Lisa Hayd...</td>\n    </tr>\n    <tr>\n      <th>32</th>\n      <td>33</td>\n      <td>Up</td>\n      <td>78-year-old Carl Fredricksen travels to Paradi...</td>\n      <td>2009</td>\n      <td>Pete Docter</td>\n      <td>8.2</td>\n      <td>96 min</td>\n      <td>[Animation, Adventure, Comedy]</td>\n      <td>['    Stars:' 'Edward Asner ' 'Jordan Nagai ' ...</td>\n    </tr>\n    <tr>\n      <th>33</th>\n      <td>34</td>\n      <td>Toy Story 3</td>\n      <td>The toys are mistakenly delivered to a day-car...</td>\n      <td>2010</td>\n      <td>Lee Unkrich</td>\n      <td>8.2</td>\n      <td>103 min</td>\n      <td>[Animation, Adventure, Comedy]</td>\n      <td>['Tom Hanks ' 'Tim Allen ' 'Joan Cusack ' 'Ned...</td>\n    </tr>\n    <tr>\n      <th>34</th>\n      <td>35</td>\n      <td>Batman Begins</td>\n      <td>After training with his mentor, Batman begins ...</td>\n      <td>2005</td>\n      <td>Christopher Nolan</td>\n      <td>8.2</td>\n      <td>140 min</td>\n      <td>[Action, Adventure]</td>\n      <td>['Christian Bale ' 'Michael Caine ' 'Ken Watan...</td>\n    </tr>\n    <tr>\n      <th>35</th>\n      <td>36</td>\n      <td>Howl's Moving Castle</td>\n      <td>When an unconfident young woman is cursed with...</td>\n      <td>2004</td>\n      <td>Hayao Miyazaki</td>\n      <td>8.2</td>\n      <td>119 min</td>\n      <td>[Animation, Adventure, Family]</td>\n      <td>['Chieko Baishô ' 'Takuya Kimura ' 'Tatsuya Ga...</td>\n    </tr>\n    <tr>\n      <th>36</th>\n      <td>37</td>\n      <td>Indiana Jones and the Last Crusade</td>\n      <td>In 1938, after his father Professor Henry Jone...</td>\n      <td>1989</td>\n      <td>Steven Spielberg</td>\n      <td>8.2</td>\n      <td>127 min</td>\n      <td>[Action, Adventure]</td>\n      <td>['Harrison Ford ' 'Sean Connery ' 'Alison Dood...</td>\n    </tr>\n    <tr>\n      <th>37</th>\n      <td>38</td>\n      <td>Sholay</td>\n      <td>After his family is murdered by a notorious an...</td>\n      <td>1975</td>\n      <td>Ramesh Sippy</td>\n      <td>8.2</td>\n      <td>162 min</td>\n      <td>[Action, Adventure, Comedy]</td>\n      <td>['Sanjeev Kumar ' 'Dharmendra ' 'Amitabh Bachc...</td>\n    </tr>\n    <tr>\n      <th>38</th>\n      <td>39</td>\n      <td>Monty Python and the Holy Grail</td>\n      <td>King Arthur and his Knights of the Round Table...</td>\n      <td>1975</td>\n      <td>Terry Gilliam</td>\n      <td>8.2</td>\n      <td>91 min</td>\n      <td>[Adventure, Comedy, Fantasy]</td>\n      <td>['    Stars:' 'Graham Chapman ' 'John Cleese '...</td>\n    </tr>\n    <tr>\n      <th>39</th>\n      <td>40</td>\n      <td>The Great Escape</td>\n      <td>Allied prisoners of war plan for several hundr...</td>\n      <td>1963</td>\n      <td>John Sturges</td>\n      <td>8.2</td>\n      <td>172 min</td>\n      <td>[Adventure, Drama, History]</td>\n      <td>['Steve McQueen ' 'James Garner ' 'Richard Att...</td>\n    </tr>\n    <tr>\n      <th>40</th>\n      <td>41</td>\n      <td>The Treasure of the Sierra Madre</td>\n      <td>Two Americans searching for work in Mexico con...</td>\n      <td>1948</td>\n      <td>John Huston</td>\n      <td>8.2</td>\n      <td>126 min</td>\n      <td>[Adventure, Drama, Western]</td>\n      <td>['Humphrey Bogart ' 'Walter Huston ' 'Tim Holt...</td>\n    </tr>\n    <tr>\n      <th>41</th>\n      <td>42</td>\n      <td>The Gold Rush</td>\n      <td>A prospector goes to the Klondike in search of...</td>\n      <td>1925</td>\n      <td>Charles Chaplin</td>\n      <td>8.2</td>\n      <td>95 min</td>\n      <td>[Adventure, Comedy, Drama]</td>\n      <td>['Charles Chaplin ' 'Mack Swain ' 'Tom Murray ...</td>\n    </tr>\n    <tr>\n      <th>42</th>\n      <td>43</td>\n      <td>Soul</td>\n      <td>After landing the gig of a lifetime, a New Yor...</td>\n      <td>2020</td>\n      <td>Pete Docter</td>\n      <td>8.1</td>\n      <td>100 min</td>\n      <td>[Animation, Adventure, Comedy]</td>\n      <td>['    Stars:' 'Jamie Foxx ' 'Tina Fey ' 'Graha...</td>\n    </tr>\n    <tr>\n      <th>43</th>\n      <td>44</td>\n      <td>The Grand Budapest Hotel</td>\n      <td>A writer encounters the owner of an aging high...</td>\n      <td>2014</td>\n      <td>Wes Anderson</td>\n      <td>8.1</td>\n      <td>99 min</td>\n      <td>[Adventure, Comedy, Crime]</td>\n      <td>['Ralph Fiennes ' 'F. Murray Abraham ' 'Mathie...</td>\n    </tr>\n    <tr>\n      <th>44</th>\n      <td>45</td>\n      <td>Inside Out</td>\n      <td>After young Riley is uprooted from her Midwest...</td>\n      <td>2015</td>\n      <td>Pete Docter</td>\n      <td>8.1</td>\n      <td>95 min</td>\n      <td>[Animation, Adventure, Comedy]</td>\n      <td>['    Stars:' 'Amy Poehler ' 'Bill Hader ' 'Le...</td>\n    </tr>\n    <tr>\n      <th>45</th>\n      <td>46</td>\n      <td>Song of the Sea</td>\n      <td>Ben, a young Irish boy, and his little sister ...</td>\n      <td>2014</td>\n      <td>Tomm Moore</td>\n      <td>8.1</td>\n      <td>93 min</td>\n      <td>[Animation, Adventure, Drama]</td>\n      <td>['David Rawle ' 'Brendan Gleeson ' 'Lisa Hanni...</td>\n    </tr>\n    <tr>\n      <th>46</th>\n      <td>47</td>\n      <td>Mad Max: Fury Road</td>\n      <td>In a post-apocalyptic wasteland, a woman rebel...</td>\n      <td>2015</td>\n      <td>George Miller</td>\n      <td>8.1</td>\n      <td>120 min</td>\n      <td>[Action, Adventure, Sci-Fi]</td>\n      <td>['Tom Hardy ' 'Charlize Theron ' 'Nicholas Hou...</td>\n    </tr>\n    <tr>\n      <th>47</th>\n      <td>48</td>\n      <td>Harry Potter and the Deathly Hallows: Part 2</td>\n      <td>Harry, Ron, and Hermione search for Voldemort'...</td>\n      <td>2011</td>\n      <td>David Yates</td>\n      <td>8.1</td>\n      <td>130 min</td>\n      <td>[Adventure, Drama, Fantasy]</td>\n      <td>['Daniel Radcliffe ' 'Emma Watson ' 'Rupert Gr...</td>\n    </tr>\n    <tr>\n      <th>48</th>\n      <td>49</td>\n      <td>How to Train Your Dragon</td>\n      <td>A hapless young Viking who aspires to hunt dra...</td>\n      <td>2010</td>\n      <td>Dean DeBlois</td>\n      <td>8.1</td>\n      <td>98 min</td>\n      <td>[Animation, Action, Adventure]</td>\n      <td>['    Stars:' 'Jay Baruchel ' 'Gerard Butler '...</td>\n    </tr>\n    <tr>\n      <th>49</th>\n      <td>50</td>\n      <td>Into the Wild</td>\n      <td>After graduating from Emory University, top st...</td>\n      <td>2007</td>\n      <td>Sean Penn</td>\n      <td>8.1</td>\n      <td>148 min</td>\n      <td>[Adventure, Biography, Drama]</td>\n      <td>['Emile Hirsch ' 'Vince Vaughn ' 'Catherine Ke...</td>\n    </tr>\n  </tbody>\n</table>\n</div>"
          },
          "metadata": {}
        }
      ],
      "execution_count": null
    },
    {
      "cell_type": "code",
      "metadata": {
        "tags": [],
        "cell_id": "00014-441a1aab-a59d-4af5-be4b-e087ae20d709",
        "deepnote_cell_type": "code"
      },
      "source": "\"(\\d+)\"",
      "execution_count": null,
      "outputs": []
    },
    {
      "cell_type": "markdown",
      "source": "<a style='text-decoration:none;line-height:16px;display:flex;color:#5B5B62;padding:10px;justify-content:end;' href='https://deepnote.com?utm_source=created-in-deepnote-cell&projectId=707b3354-6a36-4a18-95db-18b654efe088' target=\"_blank\">\n<img style='display:inline;max-height:16px;margin:0px;margin-right:7.5px;' src='data:image/svg+xml;base64,PD94bWwgdmVyc2lvbj0iMS4wIiBlbmNvZGluZz0iVVRGLTgiPz4KPHN2ZyB3aWR0aD0iODBweCIgaGVpZ2h0PSI4MHB4IiB2aWV3Qm94PSIwIDAgODAgODAiIHZlcnNpb249IjEuMSIgeG1sbnM9Imh0dHA6Ly93d3cudzMub3JnLzIwMDAvc3ZnIiB4bWxuczp4bGluaz0iaHR0cDovL3d3dy53My5vcmcvMTk5OS94bGluayI+CiAgICA8IS0tIEdlbmVyYXRvcjogU2tldGNoIDU0LjEgKDc2NDkwKSAtIGh0dHBzOi8vc2tldGNoYXBwLmNvbSAtLT4KICAgIDx0aXRsZT5Hcm91cCAzPC90aXRsZT4KICAgIDxkZXNjPkNyZWF0ZWQgd2l0aCBTa2V0Y2guPC9kZXNjPgogICAgPGcgaWQ9IkxhbmRpbmciIHN0cm9rZT0ibm9uZSIgc3Ryb2tlLXdpZHRoPSIxIiBmaWxsPSJub25lIiBmaWxsLXJ1bGU9ImV2ZW5vZGQiPgogICAgICAgIDxnIGlkPSJBcnRib2FyZCIgdHJhbnNmb3JtPSJ0cmFuc2xhdGUoLTEyMzUuMDAwMDAwLCAtNzkuMDAwMDAwKSI+CiAgICAgICAgICAgIDxnIGlkPSJHcm91cC0zIiB0cmFuc2Zvcm09InRyYW5zbGF0ZSgxMjM1LjAwMDAwMCwgNzkuMDAwMDAwKSI+CiAgICAgICAgICAgICAgICA8cG9seWdvbiBpZD0iUGF0aC0yMCIgZmlsbD0iIzAyNjVCNCIgcG9pbnRzPSIyLjM3NjIzNzYyIDgwIDM4LjA0NzY2NjcgODAgNTcuODIxNzgyMiA3My44MDU3NTkyIDU3LjgyMTc4MjIgMzIuNzU5MjczOSAzOS4xNDAyMjc4IDMxLjY4MzE2ODMiPjwvcG9seWdvbj4KICAgICAgICAgICAgICAgIDxwYXRoIGQ9Ik0zNS4wMDc3MTgsODAgQzQyLjkwNjIwMDcsNzYuNDU0OTM1OCA0Ny41NjQ5MTY3LDcxLjU0MjI2NzEgNDguOTgzODY2LDY1LjI2MTk5MzkgQzUxLjExMjI4OTksNTUuODQxNTg0MiA0MS42NzcxNzk1LDQ5LjIxMjIyODQgMjUuNjIzOTg0Niw0OS4yMTIyMjg0IEMyNS40ODQ5Mjg5LDQ5LjEyNjg0NDggMjkuODI2MTI5Niw0My4yODM4MjQ4IDM4LjY0NzU4NjksMzEuNjgzMTY4MyBMNzIuODcxMjg3MSwzMi41NTQ0MjUgTDY1LjI4MDk3Myw2Ny42NzYzNDIxIEw1MS4xMTIyODk5LDc3LjM3NjE0NCBMMzUuMDA3NzE4LDgwIFoiIGlkPSJQYXRoLTIyIiBmaWxsPSIjMDAyODY4Ij48L3BhdGg+CiAgICAgICAgICAgICAgICA8cGF0aCBkPSJNMCwzNy43MzA0NDA1IEwyNy4xMTQ1MzcsMC4yNTcxMTE0MzYgQzYyLjM3MTUxMjMsLTEuOTkwNzE3MDEgODAsMTAuNTAwMzkyNyA4MCwzNy43MzA0NDA1IEM4MCw2NC45NjA0ODgyIDY0Ljc3NjUwMzgsNzkuMDUwMzQxNCAzNC4zMjk1MTEzLDgwIEM0Ny4wNTUzNDg5LDc3LjU2NzA4MDggNTMuNDE4MjY3Nyw3MC4zMTM2MTAzIDUzLjQxODI2NzcsNTguMjM5NTg4NSBDNTMuNDE4MjY3Nyw0MC4xMjg1NTU3IDM2LjMwMzk1NDQsMzcuNzMwNDQwNSAyNS4yMjc0MTcsMzcuNzMwNDQwNSBDMTcuODQzMDU4NiwzNy43MzA0NDA1IDkuNDMzOTE5NjYsMzcuNzMwNDQwNSAwLDM3LjczMDQ0MDUgWiIgaWQ9IlBhdGgtMTkiIGZpbGw9IiMzNzkzRUYiPjwvcGF0aD4KICAgICAgICAgICAgPC9nPgogICAgICAgIDwvZz4KICAgIDwvZz4KPC9zdmc+' > </img>\nCreated in <span style='font-weight:600;margin-left:4px;'>Deepnote</span></a>",
      "metadata": {
        "tags": [],
        "created_in_deepnote_cell": true,
        "deepnote_cell_type": "markdown"
      }
    }
  ],
  "nbformat": 4,
  "nbformat_minor": 2,
  "metadata": {
    "orig_nbformat": 2,
    "deepnote_notebook_id": "34c91619-504f-4255-b314-ed5bb495828b",
    "deepnote": {},
    "deepnote_execution_queue": []
  }
}